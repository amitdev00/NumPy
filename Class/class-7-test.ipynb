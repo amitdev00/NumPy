{
 "cells": [
  {
   "cell_type": "markdown",
   "id": "dc2a7a64",
   "metadata": {},
   "source": [
    "####  1. Create a 1D NumPy array with values from 10 to 50 with step size 5."
   ]
  },
  {
   "cell_type": "code",
   "execution_count": 2,
   "id": "4a888fe3",
   "metadata": {},
   "outputs": [
    {
     "name": "stdout",
     "output_type": "stream",
     "text": [
      "1D Array:  [10 15 20 25 30 35 40 45]\n"
     ]
    }
   ],
   "source": [
    "import numpy as np\n",
    "arr1 = np.arange(10, 50, 5)\n",
    "print(\"1D Array: \", arr1)"
   ]
  },
  {
   "cell_type": "markdown",
   "id": "2decb755",
   "metadata": {},
   "source": [
    "#### 2. Generate a 2D array of shape (3,4) filled with random integers between 1 and 100.\n"
   ]
  },
  {
   "cell_type": "code",
   "execution_count": 6,
   "id": "408feed2",
   "metadata": {},
   "outputs": [
    {
     "name": "stdout",
     "output_type": "stream",
     "text": [
      "2D Array: \n",
      " [[34 64 13  9]\n",
      " [30 50 13  8]\n",
      " [65 53 52 30]]\n"
     ]
    }
   ],
   "source": [
    "arr2 = np.random.randint(1, 100, size=(3, 4))\n",
    "print(\"2D Array: \\n\", arr2)"
   ]
  },
  {
   "cell_type": "markdown",
   "id": "7ec2a416",
   "metadata": {},
   "source": [
    "#### 3. Extract all even numbers from the array [12, 45, 67, 23, 89, 10, 56]."
   ]
  },
  {
   "cell_type": "code",
   "execution_count": 10,
   "id": "0a4d8fb7",
   "metadata": {},
   "outputs": [
    {
     "name": "stdout",
     "output_type": "stream",
     "text": [
      "Even Numbers:  [12 10 56]\n"
     ]
    }
   ],
   "source": [
    "arr3 = np.array([12, 45, 67, 23, 89, 10, 56])\n",
    "even_nums = np.where(arr3 % 2 == 0)\n",
    "print(\"Even Numbers: \", arr3[even_nums])"
   ]
  },
  {
   "cell_type": "markdown",
   "id": "13a5ea95",
   "metadata": {},
   "source": [
    "#### 4. Slice out the last 2 rows and first 2 columns from a (4×4) array of numbers 1–16."
   ]
  },
  {
   "cell_type": "code",
   "execution_count": 14,
   "id": "112da2be",
   "metadata": {},
   "outputs": [
    {
     "name": "stdout",
     "output_type": "stream",
     "text": [
      "[[ 1 12 11 13]\n",
      " [15 11  1 13]\n",
      " [ 4  5  1  2]\n",
      " [ 8  4  5 12]]\n",
      "[[ 1  2]\n",
      " [ 5 12]]\n"
     ]
    }
   ],
   "source": [
    "arr4 = np.random.randint(1, 16,  size=(4, 4))\n",
    "print(arr4)\n",
    "print(arr4[-2:, -2:])\n"
   ]
  },
  {
   "cell_type": "markdown",
   "id": "40e1b845",
   "metadata": {},
   "source": [
    "#### 5. Create a (5×5) identity matrix and multiply it with a vector [1,2,3,4,5]."
   ]
  },
  {
   "cell_type": "code",
   "execution_count": 22,
   "id": "96063c26",
   "metadata": {},
   "outputs": [
    {
     "name": "stdout",
     "output_type": "stream",
     "text": [
      "Mutliplication of matrix with vetor: \n",
      " [[1 0 0 0 0]\n",
      " [0 2 0 0 0]\n",
      " [0 0 3 0 0]\n",
      " [0 0 0 4 0]\n",
      " [0 0 0 0 5]]\n"
     ]
    }
   ],
   "source": [
    "arr5 = np.identity(5, dtype=int)\n",
    "print(\"Mutliplication of matrix with vetor: \\n\", arr5 * [1, 2, 3, 4, 5])"
   ]
  },
  {
   "cell_type": "markdown",
   "id": "cc4a3d43",
   "metadata": {},
   "source": [
    "#### 6. Generate 10 evenly spaced numbers between 0 and 2π and compute their sine value"
   ]
  },
  {
   "cell_type": "code",
   "execution_count": 166,
   "id": "3fd89595",
   "metadata": {},
   "outputs": [
    {
     "name": "stdout",
     "output_type": "stream",
     "text": [
      "[2.         2.47590948 2.95181896 3.42772844 3.90363791 4.37954739\n",
      " 4.85545687 5.33136635 5.80727583 6.28318531]\n"
     ]
    }
   ],
   "source": [
    "arr6 = np.linspace(2, 2*np.pi, 10)\n",
    "print(arr6)"
   ]
  },
  {
   "cell_type": "markdown",
   "id": "9974d453",
   "metadata": {},
   "source": [
    "#### 7. Reshape a 1D array of numbers 1–12 into a 3×4 matrix"
   ]
  },
  {
   "cell_type": "code",
   "execution_count": 64,
   "id": "253a4d67",
   "metadata": {},
   "outputs": [
    {
     "name": "stdout",
     "output_type": "stream",
     "text": [
      "Original Array:  [ 1  2  3  4  5  6  7  8  9 10 11 12]\n",
      "Reshaped Array: \n",
      " [[ 1  2  3  4]\n",
      " [ 5  6  7  8]\n",
      " [ 9 10 11 12]]\n"
     ]
    }
   ],
   "source": [
    "arr7 = np.arange(1, 13)\n",
    "print(\"Original Array: \", arr7)\n",
    "reshaped_arr7 = arr7.reshape((3, 4))\n",
    "print(\"Reshaped Array: \\n\", reshaped_arr7)"
   ]
  },
  {
   "cell_type": "markdown",
   "id": "8a31081a",
   "metadata": {},
   "source": [
    "#### 8. Stack two arrays [1,2,3] and [4,5,6] vertically and horizontally.\n"
   ]
  },
  {
   "cell_type": "code",
   "execution_count": 69,
   "id": "ee233f2e",
   "metadata": {},
   "outputs": [
    {
     "name": "stdout",
     "output_type": "stream",
     "text": [
      "Horizontal stack:  Array 8: \n",
      " [1 2 3]\n",
      "Horizontal stack:  Array 8a: \n",
      " [4 5 6]\n",
      "Vertical stack:  Array 8: \n",
      " [[1]\n",
      " [2]\n",
      " [3]]\n",
      "Vertical stack:  Array 8a: \n",
      " [[4]\n",
      " [5]\n",
      " [6]]\n"
     ]
    }
   ],
   "source": [
    "arr8 = np.array([1, 2, 3])\n",
    "arr8a = np.array([4, 5, 6])\n",
    "\n",
    "print(\"Horizontal stack: \", \"Array 8: \\n\", np.hstack(arr8))\n",
    "print(\"Horizontal stack: \", \"Array 8a: \\n\", np.hstack(arr8a))\n",
    "print(\"Vertical stack: \", \"Array 8: \\n\", np.vstack(arr8))\n",
    "print(\"Vertical stack: \", \"Array 8a: \\n\", np.vstack(arr8a))\n",
    "\n"
   ]
  },
  {
   "cell_type": "markdown",
   "id": "35b03e3d",
   "metadata": {},
   "source": [
    "#### 9. Create a boolean mask for numbers greater than 25 in [12, 34, 56, 78, 90, 11, 45, 67].\n"
   ]
  },
  {
   "cell_type": "code",
   "execution_count": 72,
   "id": "1b9024e9",
   "metadata": {},
   "outputs": [
    {
     "name": "stdout",
     "output_type": "stream",
     "text": [
      "Number greater than 25:  [34 56 78 90 45 67]\n",
      "Mask for the number greater than 25:  [False  True  True  True  True False  True  True]\n"
     ]
    }
   ],
   "source": [
    "arr9 = np.array([12, 34, 56, 78, 90, 11, 45, 67])\n",
    "mask = arr9 > 25\n",
    "print(\"Number greater than 25: \", arr9[mask])\n",
    "print(\"Mask for the number greater than 25: \", mask)"
   ]
  },
  {
   "cell_type": "markdown",
   "id": "03d51854",
   "metadata": {},
   "source": [
    "#### 10. Sort the array [23, 1, 56, 3, 78, 12] in ascending and descending order.\n"
   ]
  },
  {
   "cell_type": "code",
   "execution_count": 79,
   "id": "1bf83cd0",
   "metadata": {},
   "outputs": [
    {
     "name": "stdout",
     "output_type": "stream",
     "text": [
      "Sorting in Ascending order:  [ 1  3 12 23 56 78]\n",
      "Sorting in Descending order:  [78 56 23 12  3  1]\n"
     ]
    }
   ],
   "source": [
    "arr10 = np.array([23, 1, 56, 3, 78, 12])\n",
    "\n",
    "print(\"Sorting in Ascending order: \", np.sort(arr10))\n",
    "print(\"Sorting in Descending order: \", np.sort(arr10)[::-1])"
   ]
  },
  {
   "cell_type": "markdown",
   "id": "b825928a",
   "metadata": {},
   "source": [
    "#### 11. Find the maximum value and its index in a random (3×3) array."
   ]
  },
  {
   "cell_type": "code",
   "execution_count": null,
   "id": "c2d6fb2f",
   "metadata": {},
   "outputs": [
    {
     "name": "stdout",
     "output_type": "stream",
     "text": [
      "Array:  [[0.37176901 0.67688987 0.00385194]\n",
      " [0.48826025 0.2703737  0.30028124]\n",
      " [0.41631305 0.01488449 0.84835603]]\n",
      "Maximum value in random 3 X 3 array:  0.8483560294372428\n"
     ]
    }
   ],
   "source": [
    "arr11 = np.random.rand(3, 3)\n",
    "print(\"Array: \", arr11)\n",
    "print(\"Maximum value in random 3 X 3 array: \", arr11.max())"
   ]
  },
  {
   "cell_type": "markdown",
   "id": "c8271eed",
   "metadata": {},
   "source": [
    "#### 12. Generate a (4×4) array and replace all elements greater than 10 with 0."
   ]
  },
  {
   "cell_type": "code",
   "execution_count": 132,
   "id": "80da2b5a",
   "metadata": {},
   "outputs": [
    {
     "name": "stdout",
     "output_type": "stream",
     "text": [
      "Original Array:  [[ 4 19 18 10]\n",
      " [ 5 15  6 19]\n",
      " [16 16  3  0]\n",
      " [ 8  6  0 17]]\n",
      "After replacing elements with 0 [[ 4  0  0 10]\n",
      " [ 5  0  6  0]\n",
      " [ 0  0  3  0]\n",
      " [ 8  6  0  0]]\n"
     ]
    }
   ],
   "source": [
    "arr12 = np.random.randint(0, 20, size=(4, 4))\n",
    "print(\"Original Array: \", arr12)\n",
    "\n",
    "replace_elements_with_0 = np.where(arr12 > 10, 0, arr12)\n",
    "print(\"After replacing elements with 0\", replace_elements_with_0)"
   ]
  },
  {
   "cell_type": "markdown",
   "id": "4a3b4db9",
   "metadata": {},
   "source": [
    "#### 13. Create a 3D array of shape (2,3,4). Access the second 2D matrix."
   ]
  },
  {
   "cell_type": "code",
   "execution_count": 163,
   "id": "369e0cb5",
   "metadata": {},
   "outputs": [
    {
     "name": "stdout",
     "output_type": "stream",
     "text": [
      "Orginal Matrix:  [[[ 2 17 27 23]\n",
      "  [21 24 23  0]\n",
      "  [26 14 17 20]]\n",
      "\n",
      " [[12 11  2  3]\n",
      "  [22 17  8 20]\n",
      "  [25 26  1 23]]]\n",
      "Second 2D Matrix:  [[12 11  2  3]\n",
      " [22 17  8 20]\n",
      " [25 26  1 23]]\n"
     ]
    }
   ],
   "source": [
    "arr13 = np.random.randint(0, 30, size=(2, 3, 4))\n",
    "print(\"Orginal Matrix: \", arr13)\n",
    "print(\"Second 2D Matrix: \", arr13[1])"
   ]
  },
  {
   "cell_type": "markdown",
   "id": "8c0f8207",
   "metadata": {},
   "source": [
    "#### 14. Use broadcasting to add a (3×1) column vector [1,2,3] to a (3×3) matrix of ones."
   ]
  },
  {
   "cell_type": "code",
   "execution_count": 167,
   "id": "7c26d78b",
   "metadata": {},
   "outputs": [
    {
     "name": "stdout",
     "output_type": "stream",
     "text": [
      "[1 2 3 4 5 6 7 8 9]\n"
     ]
    }
   ],
   "source": [
    "arr = np.arange(1, 10)\n",
    "print(arr)"
   ]
  },
  {
   "cell_type": "code",
   "execution_count": null,
   "id": "1f573b7c",
   "metadata": {},
   "outputs": [
    {
     "name": "stdout",
     "output_type": "stream",
     "text": [
      "140706171528392 140706171528392\n"
     ]
    }
   ],
   "source": []
  },
  {
   "cell_type": "markdown",
   "id": "1ce81a2e",
   "metadata": {},
   "source": [
    "#### 15. Compute element-wise multiplication and matrix multiplication of\n",
    "#### A = [[1,2],[3,4]], B = [[5,6],[7,8]]"
   ]
  },
  {
   "cell_type": "code",
   "execution_count": 138,
   "id": "435b0aa9",
   "metadata": {},
   "outputs": [
    {
     "name": "stdout",
     "output_type": "stream",
     "text": [
      "Element wise Multliplication of matrix: \n",
      " [[ 5 12]\n",
      " [21 32]]\n"
     ]
    }
   ],
   "source": [
    "arr15 = np.array([[1, 2],[3, 4]])\n",
    "arr15a = np.array([[5, 6], [7, 8]])\n",
    "\n",
    "print(\"Element wise Multliplication of matrix: \\n\", arr15 * arr15a)"
   ]
  },
  {
   "cell_type": "markdown",
   "id": "d64dc9fc",
   "metadata": {},
   "source": [
    "#### 16. Find the mean, median, and standard deviation of [10,20,30,40,50,60,70]."
   ]
  },
  {
   "cell_type": "code",
   "execution_count": 143,
   "id": "30aafc5d",
   "metadata": {},
   "outputs": [
    {
     "name": "stdout",
     "output_type": "stream",
     "text": [
      "Mean:  40.0\n",
      "Median:  40.0\n",
      "Standard Deviation:  20.0\n"
     ]
    }
   ],
   "source": [
    "arr16 = np.array([10, 20, 30, 40, 50, 60, 70])\n",
    "\n",
    "mean_arr16 = np.mean(arr16)\n",
    "print(\"Mean: \", mean_arr16)\n",
    "\n",
    "median_arr16 = np.median(arr16)\n",
    "print(\"Median: \", median_arr16)\n",
    "\n",
    "std_deviation_arr16 = np.std(arr16)\n",
    "print(\"Standard Deviation: \", std_deviation_arr16)"
   ]
  },
  {
   "cell_type": "markdown",
   "id": "71523c02",
   "metadata": {},
   "source": [
    "#### 17. Use np.where to find indices of numbers divisible by 3 in [12, 45, 67, 23, 89, 10, 56].\n"
   ]
  },
  {
   "cell_type": "code",
   "execution_count": 148,
   "id": "733b1c58",
   "metadata": {},
   "outputs": [
    {
     "name": "stdout",
     "output_type": "stream",
     "text": [
      "Indices of number divisible by 3:  (array([0, 1]),)\n",
      "Numbers that are divisible by 3:  [12 45]\n"
     ]
    }
   ],
   "source": [
    "arr17 = np.array([12, 45, 67, 23, 89, 10, 56])\n",
    "\n",
    "indices = np.where(arr17 % 3 == 0)\n",
    "print(\"Indices of number divisible by 3: \", indices)\n",
    "print(\"Numbers that are divisible by 3: \", arr17[indices])"
   ]
  },
  {
   "cell_type": "markdown",
   "id": "a1c3b324",
   "metadata": {},
   "source": [
    "#### 18. Create an array of complex numbers and extract their real and imaginary parts."
   ]
  },
  {
   "cell_type": "code",
   "execution_count": null,
   "id": "062661da",
   "metadata": {},
   "outputs": [],
   "source": []
  },
  {
   "cell_type": "markdown",
   "id": "33f7a9b2",
   "metadata": {},
   "source": [
    "#### 19. Generate a random array of shape (100,) and count how many numbers are greater than 0.5."
   ]
  },
  {
   "cell_type": "code",
   "execution_count": 161,
   "id": "955c1025",
   "metadata": {},
   "outputs": [
    {
     "name": "stdout",
     "output_type": "stream",
     "text": [
      "Orginal Array: \n",
      " [0.55701069 0.95055666 0.26589205 0.9608881  0.73803133 0.63622648\n",
      " 0.01014255 0.00437965 0.08392767 0.55008646 0.58951462 0.75472316\n",
      " 0.34817199 0.54349453 0.80085901 0.76613416 0.80452262 0.79967806\n",
      " 0.73997561 0.35531086 0.46864687 0.48618588 0.31934099 0.50600277\n",
      " 0.19445043 0.89790351 0.15482075 0.51039788 0.02141238 0.32235922\n",
      " 0.76738871 0.38449745 0.69959553 0.06245696 0.99690143 0.40324771\n",
      " 0.78181615 0.91343839 0.67562493 0.75131417 0.22607974 0.78811768\n",
      " 0.23226893 0.73151751 0.56064075 0.80468513 0.36628155 0.11063178\n",
      " 0.78808291 0.59801538 0.52062078 0.27751661 0.77937334 0.91082825\n",
      " 0.65994981 0.15744001 0.80495541 0.05122557 0.38295485 0.79144968\n",
      " 0.41759556 0.40016596 0.13869464 0.33263116 0.8499076  0.09094183\n",
      " 0.24282109 0.35492324 0.92054905 0.70959239 0.84250508 0.90285179\n",
      " 0.63196492 0.98365397 0.39163051 0.54150215 0.87156635 0.74355836\n",
      " 0.77161983 0.77635066 0.37287158 0.08607101 0.71976622 0.41083761\n",
      " 0.83070382 0.96358974 0.14085735 0.29713174 0.07019609 0.21596395\n",
      " 0.64691273 0.78661657 0.31626834 0.00446664 0.08267776 0.97752903\n",
      " 0.27823459 0.22587025 0.24982978 0.54538027]\n",
      "\n",
      "Numbers that are greater than 0.5: \n",
      " [0.55701069 0.95055666 0.9608881  0.73803133 0.63622648 0.55008646\n",
      " 0.58951462 0.75472316 0.54349453 0.80085901 0.76613416 0.80452262\n",
      " 0.79967806 0.73997561 0.50600277 0.89790351 0.51039788 0.76738871\n",
      " 0.69959553 0.99690143 0.78181615 0.91343839 0.67562493 0.75131417\n",
      " 0.78811768 0.73151751 0.56064075 0.80468513 0.78808291 0.59801538\n",
      " 0.52062078 0.77937334 0.91082825 0.65994981 0.80495541 0.79144968\n",
      " 0.8499076  0.92054905 0.70959239 0.84250508 0.90285179 0.63196492\n",
      " 0.98365397 0.54150215 0.87156635 0.74355836 0.77161983 0.77635066\n",
      " 0.71976622 0.83070382 0.96358974 0.64691273 0.78661657 0.97752903\n",
      " 0.54538027]\n"
     ]
    }
   ],
   "source": [
    "arr19 = np.random.rand(100, )\n",
    "print(\"Orginal Array: \\n\", arr19)\n",
    "\n",
    "check_condition = np.where(arr19 > 0.5)\n",
    "print(\"\\nNumbers that are greater than 0.5: \\n\", arr19[check_condition])"
   ]
  },
  {
   "cell_type": "code",
   "execution_count": null,
   "id": "71cf36a1",
   "metadata": {},
   "outputs": [],
   "source": []
  },
  {
   "cell_type": "code",
   "execution_count": null,
   "id": "0e931540",
   "metadata": {},
   "outputs": [
    {
     "name": "stdout",
     "output_type": "stream",
     "text": [
      "-1\n",
      "0\n",
      "1\n",
      "2\n",
      "3\n",
      "4\n",
      "4\n",
      "6\n",
      "[-1, 0, 1, 2, 3, 4, 6]\n"
     ]
    }
   ],
   "source": [
    "ls = [4,6,0,-1,2,4,1,3]\n",
    "index = len(ls)\n",
    "for i in range(index):\n",
    "    for j in range(i + 1, index):\n",
    "        if ls[i] > ls[j]:\n",
    "            ls[i], ls[j] = ls[j], ls[i]\n",
    "\n",
    "result_list = []\n",
    "\n",
    "for i in ls:\n",
    "    if i not in result_list:\n",
    "        result_list.append(i)\n",
    "print(result_list)\n",
    "\n"
   ]
  },
  {
   "cell_type": "code",
   "execution_count": null,
   "id": "95343011",
   "metadata": {},
   "outputs": [
    {
     "name": "stdout",
     "output_type": "stream",
     "text": [
      "a\n",
      "b\n",
      "c\n",
      "a\n",
      "b\n",
      "c\n",
      "d\n",
      "e\n",
      "a\n",
      "f\n",
      "g\n"
     ]
    }
   ],
   "source": []
  }
 ],
 "metadata": {
  "kernelspec": {
   "display_name": ".venv",
   "language": "python",
   "name": "python3"
  },
  "language_info": {
   "codemirror_mode": {
    "name": "ipython",
    "version": 3
   },
   "file_extension": ".py",
   "mimetype": "text/x-python",
   "name": "python",
   "nbconvert_exporter": "python",
   "pygments_lexer": "ipython3",
   "version": "3.13.3"
  }
 },
 "nbformat": 4,
 "nbformat_minor": 5
}
