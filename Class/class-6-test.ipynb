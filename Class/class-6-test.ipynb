{
 "cells": [
  {
   "cell_type": "markdown",
   "id": "18b1dbe9",
   "metadata": {},
   "source": [
    "Student Marks Analyzer – Mini Project\n",
    "\n",
    "Instructions: Use NumPy to solve the following tasks.\n",
    "\n",
    "Problem Statement:\n",
    "\n",
    "You are asked to analyze the marks of 100 students in 5 subjects. The marks should be randomly generated (between 0 and 100).\n",
    "\n",
    "Tasks:\n",
    "\n",
    "Data Generation\n",
    "\n",
    "Create a NumPy array of shape (100, 5) with random integers between 0 and 100.\n",
    "Each row represents a student, and each column represents a subject.\n",
    "\n",
    "Average per Subject\n",
    "\n",
    "Find the average marks for each subject.\n",
    "\n",
    "Top Student\n",
    "\n",
    "Calculate the total marks for each student.\n",
    "Find the student who scored the highest total marks.\n",
    "\n",
    "Pass/Fail Count\n",
    "\n",
    "A student is considered \"Pass\" only if they scored at least 40 marks in every subject.\n",
    "Count how many students passed and how many failed.\n",
    "\n",
    "Hint:\n",
    "\n",
    "Use np.random.randint() for generating marks.\n",
    "Try np.mean(), np.sum(), np.argmax(), and logical conditions with NumPy."
   ]
  },
  {
   "cell_type": "code",
   "execution_count": 40,
   "id": "4b87904e",
   "metadata": {},
   "outputs": [],
   "source": [
    "import numpy as np\n",
    "marks = np.random.randint(0, 100, size=(100, 5))"
   ]
  },
  {
   "cell_type": "markdown",
   "id": "56e0c2fa",
   "metadata": {},
   "source": [
    "# Average per subject"
   ]
  },
  {
   "cell_type": "code",
   "execution_count": 41,
   "id": "7b534ace",
   "metadata": {},
   "outputs": [
    {
     "name": "stdout",
     "output_type": "stream",
     "text": [
      "Average marks per subject:  [49.1  48.17 46.63 49.11 48.52]\n"
     ]
    }
   ],
   "source": [
    "avg_marks_per_subject = np.mean(marks, axis=0)\n",
    "print(\"Average marks per subject: \", avg_marks_per_subject)"
   ]
  },
  {
   "cell_type": "markdown",
   "id": "356ddec2",
   "metadata": {},
   "source": [
    "# Top Student\n",
    "\n",
    "#### Calculate the total marks for each student.\n",
    "#### Find the student who scored the highest total marks.\n",
    "\n"
   ]
  },
  {
   "cell_type": "code",
   "execution_count": 42,
   "id": "435c48f6",
   "metadata": {},
   "outputs": [
    {
     "name": "stdout",
     "output_type": "stream",
     "text": [
      "Total marks of ach student:  [219 397 200 255 345 212 249 160 254 184 209 232 188 147 242 275 195 250\n",
      " 294 218 111 270 247 257 217 257 172 249 274 265 252 270 259 295 379 190\n",
      " 145 169 251 233 295 288 268 337 363 221 225 233 202 297 299 254 302 183\n",
      "  94 200 252 273 191 177 234 190 274 263 104 294 174 191 258 235 349 171\n",
      " 183 173 289 360 245 286 424 246 263 251 321 142 382 201 197 167 381 248\n",
      " 115 253 270 236 169 248 177 201 257 290]\n",
      "Highest total marks of a student:  424\n"
     ]
    }
   ],
   "source": [
    "total_marks_of_each_student = np.sum(marks, axis=1)\n",
    "print(\"Total marks of ach student: \", total_marks_of_each_student)\n",
    "\n",
    "highest_total_marks = np.argmax(total_marks_of_each_student, )\n",
    "print(\"Highest total marks of a student: \", total_marks_of_each_student[highest_total_marks])"
   ]
  },
  {
   "cell_type": "markdown",
   "id": "eb40c90f",
   "metadata": {},
   "source": [
    "## Pass/Fail Count\n",
    "\n",
    "#### A student is considered \"Pass\" only if they scored at least 40 marks in every subject.\n",
    "#### Count how many students passed and how many failed.\n"
   ]
  },
  {
   "cell_type": "code",
   "execution_count": 43,
   "id": "f0267952",
   "metadata": {},
   "outputs": [
    {
     "name": "stdout",
     "output_type": "stream",
     "text": [
      "Total number of students passed:  7\n",
      "Total number of studetns failed:  93\n"
     ]
    }
   ],
   "source": [
    "passed = np.all(marks > 40, axis=1)\n",
    "\n",
    "count_passed = np.sum(passed)\n",
    "print(\"Total number of students passed: \", count_passed)\n",
    "\n",
    "count_failed = len(marks) - count_passed\n",
    "print(\"Total number of studetns failed: \", count_failed)"
   ]
  }
 ],
 "metadata": {
  "kernelspec": {
   "display_name": ".venv",
   "language": "python",
   "name": "python3"
  },
  "language_info": {
   "codemirror_mode": {
    "name": "ipython",
    "version": 3
   },
   "file_extension": ".py",
   "mimetype": "text/x-python",
   "name": "python",
   "nbconvert_exporter": "python",
   "pygments_lexer": "ipython3",
   "version": "3.13.3"
  }
 },
 "nbformat": 4,
 "nbformat_minor": 5
}
