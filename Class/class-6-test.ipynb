{
 "cells": [
  {
   "cell_type": "markdown",
   "id": "18b1dbe9",
   "metadata": {},
   "source": [
    "Student Marks Analyzer – Mini Project\n",
    "\n",
    "Instructions: Use NumPy to solve the following tasks.\n",
    "\n",
    "Problem Statement:\n",
    "\n",
    "You are asked to analyze the marks of 100 students in 5 subjects. The marks should be randomly generated (between 0 and 100).\n",
    "\n",
    "Tasks:\n",
    "\n",
    "Data Generation\n",
    "\n",
    "Create a NumPy array of shape (100, 5) with random integers between 0 and 100.\n",
    "Each row represents a student, and each column represents a subject.\n",
    "\n",
    "Average per Subject\n",
    "\n",
    "Find the average marks for each subject.\n",
    "\n",
    "Top Student\n",
    "\n",
    "Calculate the total marks for each student.\n",
    "Find the student who scored the highest total marks.\n",
    "\n",
    "Pass/Fail Count\n",
    "\n",
    "A student is considered \"Pass\" only if they scored at least 40 marks in every subject.\n",
    "Count how many students passed and how many failed.\n",
    "\n",
    "Hint:\n",
    "\n",
    "Use np.random.randint() for generating marks.\n",
    "Try np.mean(), np.sum(), np.argmax(), and logical conditions with NumPy."
   ]
  },
  {
   "cell_type": "code",
   "execution_count": 1,
   "id": "4b87904e",
   "metadata": {},
   "outputs": [
    {
     "name": "stdout",
     "output_type": "stream",
     "text": [
      "[[29 55 55 68 75]\n",
      " [ 9 21 38 58 25]\n",
      " [63 91 82 67 69]\n",
      " [ 5 95 46 17 52]\n",
      " [26 85 18 70 72]\n",
      " [86 47 26 95 60]\n",
      " [64 78 97 18 84]\n",
      " [39 42 59 65 44]\n",
      " [24 97  7 63 42]\n",
      " [43 22 69 94 51]\n",
      " [70 39 35 62  4]\n",
      " [11 66 40 47 61]\n",
      " [34 65 27 24  5]\n",
      " [67 35 19 80 75]\n",
      " [48 20 21 29 94]\n",
      " [82 76 91 29 88]\n",
      " [98 96 87 15 22]\n",
      " [57 92  6 75  0]\n",
      " [15 57 39 12 28]\n",
      " [40 38 18 61 13]\n",
      " [87 56 17 46 46]\n",
      " [47 71 91 95 14]\n",
      " [93 24 36 71 50]\n",
      " [94 77 45 14 17]\n",
      " [79 18 30 95 72]\n",
      " [54 22 51 72 14]\n",
      " [83 38 99 76 51]\n",
      " [21 87 22  9 45]\n",
      " [71 47 74  3  1]\n",
      " [98 62 82  5 31]\n",
      " [21 10  9 75 25]\n",
      " [50 63 51 29 25]\n",
      " [25 31 63 99 32]\n",
      " [30 13 90 11 11]\n",
      " [13 34 47 49 21]\n",
      " [64 49 99  8  1]\n",
      " [93 51 11 54  1]\n",
      " [70 21 47 13 15]\n",
      " [13 21  2 69 86]\n",
      " [30 52 93  6 14]\n",
      " [18 86 30  9 32]\n",
      " [26 80  9  5 16]\n",
      " [21 81 31 79 59]\n",
      " [76 29 72 16 26]\n",
      " [95 85 53 77 56]\n",
      " [65 22 33 33 89]\n",
      " [85 81 37 36 85]\n",
      " [28 20 35 36 49]\n",
      " [91 73 53 10 67]\n",
      " [ 8 73 79 11 87]\n",
      " [27 95  3 93  4]\n",
      " [14 59 99 83 79]\n",
      " [67 63 29 43 99]\n",
      " [76 24 31 54  8]\n",
      " [ 2  1 10 69 59]\n",
      " [63 85 91 85 43]\n",
      " [60  4 76 51 81]\n",
      " [52 33 64 14 89]\n",
      " [87 10  4 43 83]\n",
      " [16 99 20 57 34]\n",
      " [25 25 46 36 90]\n",
      " [52 39 85 78 35]\n",
      " [ 3 45 11 42 36]\n",
      " [25 19 71 46 75]\n",
      " [67 91 60  4 42]\n",
      " [40 43 49 56 38]\n",
      " [34 29 73 57 36]\n",
      " [93 23 93 70  8]\n",
      " [28 11 14 65 65]\n",
      " [44 90 32 71 34]\n",
      " [19 45  5 57 16]\n",
      " [44  9 24 22 61]\n",
      " [54 45 97 35 19]\n",
      " [ 7 22 66 91  6]\n",
      " [63 57 50 35 41]\n",
      " [ 8 49 20  8  0]\n",
      " [79  5 89 41  9]\n",
      " [90 67 17 36 95]\n",
      " [83 89  7 77 22]\n",
      " [93  8  5 57 90]\n",
      " [74 31  3 16 94]\n",
      " [63 85 57 96 59]\n",
      " [46 19 41 90 25]\n",
      " [36 58 11 56 37]\n",
      " [49 29 60 81 23]\n",
      " [98 94 44 56 33]\n",
      " [49 99 67 30 40]\n",
      " [31 55 24 28 73]\n",
      " [64 49 20 19 42]\n",
      " [58  4 74  9 86]\n",
      " [51 57 39 28  7]\n",
      " [47 97  2 51 12]\n",
      " [51 73 60 86 18]\n",
      " [61 46 80 75 98]\n",
      " [78 60 25 25 87]\n",
      " [ 7 11 89 58 59]\n",
      " [28 57 50 52 34]\n",
      " [69  7 96 90 79]\n",
      " [ 7  8  4 53 64]\n",
      " [49 18 34 30 87]]\n"
     ]
    }
   ],
   "source": [
    "import numpy as np\n",
    "marks = np.random.randint(0, 100, size=(100, 5))\n",
    "print(marks)"
   ]
  },
  {
   "cell_type": "markdown",
   "id": "56e0c2fa",
   "metadata": {},
   "source": [
    "# Average per subject"
   ]
  },
  {
   "cell_type": "code",
   "execution_count": 41,
   "id": "7b534ace",
   "metadata": {},
   "outputs": [
    {
     "name": "stdout",
     "output_type": "stream",
     "text": [
      "Average marks per subject:  [49.1  48.17 46.63 49.11 48.52]\n"
     ]
    }
   ],
   "source": [
    "avg_marks_per_subject = np.mean(marks, axis=0)\n",
    "print(\"Average marks per subject: \", avg_marks_per_subject)"
   ]
  },
  {
   "cell_type": "markdown",
   "id": "356ddec2",
   "metadata": {},
   "source": [
    "# Top Student\n",
    "\n",
    "#### Calculate the total marks for each student.\n",
    "#### Find the student who scored the highest total marks.\n",
    "\n"
   ]
  },
  {
   "cell_type": "code",
   "execution_count": 42,
   "id": "435c48f6",
   "metadata": {},
   "outputs": [
    {
     "name": "stdout",
     "output_type": "stream",
     "text": [
      "Total marks of ach student:  [219 397 200 255 345 212 249 160 254 184 209 232 188 147 242 275 195 250\n",
      " 294 218 111 270 247 257 217 257 172 249 274 265 252 270 259 295 379 190\n",
      " 145 169 251 233 295 288 268 337 363 221 225 233 202 297 299 254 302 183\n",
      "  94 200 252 273 191 177 234 190 274 263 104 294 174 191 258 235 349 171\n",
      " 183 173 289 360 245 286 424 246 263 251 321 142 382 201 197 167 381 248\n",
      " 115 253 270 236 169 248 177 201 257 290]\n",
      "Highest total marks of a student:  424\n"
     ]
    }
   ],
   "source": [
    "total_marks_of_each_student = np.sum(marks, axis=1)\n",
    "print(\"Total marks of ach student: \", total_marks_of_each_student)\n",
    "\n",
    "highest_total_marks = np.argmax(total_marks_of_each_student, )\n",
    "print(\"Highest total marks of a student: \", total_marks_of_each_student[highest_total_marks])"
   ]
  },
  {
   "cell_type": "markdown",
   "id": "eb40c90f",
   "metadata": {},
   "source": [
    "## Pass/Fail Count\n",
    "\n",
    "#### A student is considered \"Pass\" only if they scored at least 40 marks in every subject.\n",
    "#### Count how many students passed and how many failed.\n"
   ]
  },
  {
   "cell_type": "code",
   "execution_count": 43,
   "id": "f0267952",
   "metadata": {},
   "outputs": [
    {
     "name": "stdout",
     "output_type": "stream",
     "text": [
      "Total number of students passed:  7\n",
      "Total number of studetns failed:  93\n"
     ]
    }
   ],
   "source": [
    "passed = np.all(marks > 40, axis=1)\n",
    "\n",
    "count_passed = np.sum(passed)\n",
    "print(\"Total number of students passed: \", count_passed)\n",
    "\n",
    "count_failed = len(marks) - count_passed\n",
    "print(\"Total number of studetns failed: \", count_failed)"
   ]
  }
 ],
 "metadata": {
  "kernelspec": {
   "display_name": ".venv",
   "language": "python",
   "name": "python3"
  },
  "language_info": {
   "codemirror_mode": {
    "name": "ipython",
    "version": 3
   },
   "file_extension": ".py",
   "mimetype": "text/x-python",
   "name": "python",
   "nbconvert_exporter": "python",
   "pygments_lexer": "ipython3",
   "version": "3.13.3"
  }
 },
 "nbformat": 4,
 "nbformat_minor": 5
}
