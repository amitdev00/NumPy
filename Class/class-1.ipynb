{
 "cells": [
  {
   "cell_type": "markdown",
   "id": "7a9ddfd5",
   "metadata": {},
   "source": [
    "NumPy 3D Array"
   ]
  },
  {
   "cell_type": "code",
   "execution_count": 1,
   "id": "652acef1",
   "metadata": {},
   "outputs": [],
   "source": [
    "import numpy as np"
   ]
  },
  {
   "cell_type": "code",
   "execution_count": 4,
   "id": "207961f7",
   "metadata": {},
   "outputs": [
    {
     "name": "stdout",
     "output_type": "stream",
     "text": [
      "MultiDimensional Array: \n",
      " [[[2 1 1]\n",
      "  [1 2 3]\n",
      "  [3 1 2]\n",
      "  [4 1 1]\n",
      "  [3 3 3]]]\n",
      "Shape of MultiDimensional Array: \n",
      " (1, 5, 3)\n"
     ]
    }
   ],
   "source": [
    "arr = np.array([[[2, 1, 1],\n",
    "                 [1, 2, 3],\n",
    "                 [3, 1, 2],\n",
    "                 [4, 1, 1],\n",
    "                 [3, 3, 3]]])\n",
    "print(\"MultiDimensional Array: \\n\", arr)\n",
    "print(\"Shape of MultiDimensional Array: \\n\", arr.shape)"
   ]
  },
  {
   "cell_type": "code",
   "execution_count": 8,
   "id": "893a4185",
   "metadata": {},
   "outputs": [
    {
     "name": "stdout",
     "output_type": "stream",
     "text": [
      "arr_1: \n",
      " [[[2]\n",
      "  [1]\n",
      "  [1]]]\n",
      "arr_2: \n",
      " [[[1]\n",
      "  [2]\n",
      "  [3]]]\n",
      "arr_3: \n",
      " [[[3]\n",
      "  [1]\n",
      "  [2]]]\n",
      "arr_4: \n",
      " [[[4]\n",
      "  [1]\n",
      "  [1]]]\n",
      "arr_5: \n",
      " [[[3]\n",
      "  [3]\n",
      "  [3]]]\n",
      "Shape of arr_5:  (1, 3, 1)\n",
      "Dimensions of arr_5:  3\n"
     ]
    }
   ],
   "source": [
    "arr_1 = np.array([[[2], [1], [1]]])\n",
    "print(\"arr_1: \\n\", arr_1)\n",
    "\n",
    "arr_2 = np.array([[[1], [2], [3]]])\n",
    "print(\"arr_2: \\n\", arr_2)\n",
    "\n",
    "arr_3 = np.array([[[3], [1], [2]]])\n",
    "print(\"arr_3: \\n\", arr_3)\n",
    "\n",
    "arr_4 = np.array([[[4], [1], [1]]])\n",
    "print(\"arr_4: \\n\", arr_4)\n",
    "\n",
    "arr_5 = np.array([[[3], [3], [3]]])\n",
    "print(\"arr_5: \\n\", arr_5)\n",
    "print(\"Shape of arr_5: \", arr_5.shape )\n",
    "print(\"Dimensions of arr_5: \", arr.ndim)\n"
   ]
  },
  {
   "cell_type": "code",
   "execution_count": 14,
   "id": "68f6106b",
   "metadata": {},
   "outputs": [
    {
     "name": "stdout",
     "output_type": "stream",
     "text": [
      "10-Dimensional Array:  [[[[[[[[[[1 2 3]]]]]]]]]]\n",
      "Dimensions in 10-D Array:  10\n",
      "Shape of 10-D Array:  (1, 1, 1, 1, 1, 1, 1, 1, 1, 3)\n"
     ]
    }
   ],
   "source": [
    "arr_10d = np.array([1, 2, 3], ndmin = 10)\n",
    "print(\"10-Dimensional Array: \", arr_10d)\n",
    "print(\"Dimensions in 10-D Array: \", arr_10d.ndim)\n",
    "print(\"Shape of 10-D Array: \", arr_10d.shape)"
   ]
  },
  {
   "cell_type": "markdown",
   "id": "966de3d4",
   "metadata": {},
   "source": [
    "Indexing"
   ]
  },
  {
   "cell_type": "code",
   "execution_count": null,
   "id": "4d5cf0f3",
   "metadata": {},
   "outputs": [
    {
     "name": "stdout",
     "output_type": "stream",
     "text": [
      "Element at index 2:  3\n",
      "Element at index of second Array first element:  4\n",
      "Element at index of first array inside second Array and their second element:   6\n"
     ]
    }
   ],
   "source": [
    "#Indexing in 1-D Array\n",
    "a = np.array([1, 2, 3, 4, 5])\n",
    "print(\"Element at index 2: \", a[2])\n",
    "\n",
    "#Indexing in 2-D Array\n",
    "b = np.array([[1, 2, 3], [4, 5, 6]])\n",
    "print(\"Element at index of second Array first element: \", b[1][0])\n",
    "\n",
    "#Indexing in 3-D Array\n",
    "c = np.array([[[1, 2], [3, 4]], [[5, 6], [7, 8]]])\n",
    "print(\"Element at index of first array inside second Array and their second element:  \", c[1][0][1])"
   ]
  },
  {
   "cell_type": "markdown",
   "id": "9bccd20b",
   "metadata": {},
   "source": [
    "Slicing"
   ]
  },
  {
   "cell_type": "code",
   "execution_count": 42,
   "id": "6b460d81",
   "metadata": {},
   "outputs": [
    {
     "name": "stdout",
     "output_type": "stream",
     "text": [
      "Output 1: \n",
      " [7 8 9]\n",
      "Output 2: \n",
      " [3 8]\n",
      "Output 3: \n",
      " [[2 3 4]\n",
      " [7 8 9]]\n"
     ]
    }
   ],
   "source": [
    "# a  = np.array([1, 2, 3, 4, 5, 6, 7, 8])\n",
    "# print(a[2:6:1])\n",
    "\n",
    "b = np.array([[1, 2, 3, 4, 5],\n",
    "              [6, 7, 8, 9, 10]])\n",
    "print(\"Output 1: \\n\", b[1][1:4])\n",
    "\n",
    "array_1d = np.array([b[0][2],b[1][2]])\n",
    "print(\"Output 2: \\n\", array_1d)\n",
    "\n",
    "array_2d = np.array([b[0][1:4],b[1][1:4]])\n",
    "print(\"Output 3: \\n\", array_2d)"
   ]
  }
 ],
 "metadata": {
  "kernelspec": {
   "display_name": ".venv",
   "language": "python",
   "name": "python3"
  },
  "language_info": {
   "codemirror_mode": {
    "name": "ipython",
    "version": 3
   },
   "file_extension": ".py",
   "mimetype": "text/x-python",
   "name": "python",
   "nbconvert_exporter": "python",
   "pygments_lexer": "ipython3",
   "version": "3.13.3"
  }
 },
 "nbformat": 4,
 "nbformat_minor": 5
}
