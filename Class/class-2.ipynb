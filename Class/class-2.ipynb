{
 "cells": [
  {
   "cell_type": "markdown",
   "id": "026d3de7",
   "metadata": {},
   "source": [
    "NumPy Datatypes"
   ]
  },
  {
   "cell_type": "code",
   "execution_count": 18,
   "id": "07d020d3",
   "metadata": {},
   "outputs": [
    {
     "name": "stdout",
     "output_type": "stream",
     "text": [
      "Datatype of a = [1 2 3 4]:  int64\n",
      "Datatype of n = [1.  2.  3.  4.  5.9]:  float64\n",
      "Dataype of b = ['a' 'b' 'c' 'd']:  <U1\n",
      "Datatype of c = ['1' '1.2' 'Hello']:  <U32\n",
      "Datatype of d = [list([1, 2]) (1, 2) {'a': 1}] object\n"
     ]
    }
   ],
   "source": [
    "import numpy as np\n",
    "a = np.array([1, 2, 3, 4])\n",
    "print(f\"Datatype of a = {a}: \", a.dtype)\n",
    "\n",
    "n = np.array([1, 2, 3, 4, 5.9])\n",
    "print(f\"Datatype of n = {n}: \", n.dtype)\n",
    "\n",
    "b = np.array([\"a\", \"b\", \"c\", \"d\"])\n",
    "print(f\"Dataype of b = {b}: \", b.dtype)\n",
    "\n",
    "c = np.array([1, 1.2, \"Hello\"])\n",
    "print(f\"Datatype of c = {c}: \", c.dtype)\n",
    "\n",
    "d = np.array([[1, 2], (1, 2), {\"a\" : 1}], dtype = object)\n",
    "print(f\"Datatype of d = {d}\",d.dtype)"
   ]
  },
  {
   "cell_type": "code",
   "execution_count": 22,
   "id": "fbccd45d",
   "metadata": {},
   "outputs": [
    {
     "name": "stdout",
     "output_type": "stream",
     "text": [
      "[1 2 3 4]\n"
     ]
    }
   ],
   "source": [
    "a = np.array([1.2, 2.3, 3.4, 4.5], dtype= int )\n",
    "print(a)"
   ]
  },
  {
   "cell_type": "code",
   "execution_count": 23,
   "id": "4c18989d",
   "metadata": {},
   "outputs": [
    {
     "name": "stdout",
     "output_type": "stream",
     "text": [
      "[ True False  True]\n"
     ]
    }
   ],
   "source": [
    "a = np.array([1, 0, 3], dtype= bool)\n",
    "print(a)"
   ]
  },
  {
   "cell_type": "code",
   "execution_count": 25,
   "id": "2e5c876b",
   "metadata": {},
   "outputs": [
    {
     "name": "stdout",
     "output_type": "stream",
     "text": [
      "[1. 4. 6. 7.]\n"
     ]
    }
   ],
   "source": [
    "a = np.array([1, 4, 6, 7], dtype= float)\n",
    "print(a)"
   ]
  },
  {
   "cell_type": "code",
   "execution_count": 28,
   "id": "365836f5",
   "metadata": {},
   "outputs": [
    {
     "name": "stdout",
     "output_type": "stream",
     "text": [
      "['1' '4' '6' '8' '3']\n",
      "<U1\n"
     ]
    }
   ],
   "source": [
    "a = np.array([1, 4, 6, 8, 3], dtype= str)\n",
    "print(a)\n",
    "print(a.dtype)"
   ]
  },
  {
   "cell_type": "code",
   "execution_count": 31,
   "id": "0794d4a1",
   "metadata": {},
   "outputs": [
    {
     "name": "stdout",
     "output_type": "stream",
     "text": [
      "[1 2 3 4]\n",
      "int64\n"
     ]
    }
   ],
   "source": [
    "a = np.array([1.2, 2.3, 3.4, 4.5])\n",
    "x = a.astype(int)\n",
    "print(x)\n",
    "print(x.dtype)"
   ]
  },
  {
   "cell_type": "code",
   "execution_count": 34,
   "id": "aa293ab2",
   "metadata": {},
   "outputs": [
    {
     "name": "stdout",
     "output_type": "stream",
     "text": [
      "[ 0  1  2  3  4  5  6  7  8  9 10 11 12 13 14 15 16 17 18 19 20 21 22 23\n",
      " 24 25 26 27]\n",
      "[[ 0  1  2  3  4  5  6]\n",
      " [ 7  8  9 10 11 12 13]\n",
      " [14 15 16 17 18 19 20]\n",
      " [21 22 23 24 25 26 27]]\n",
      "2\n"
     ]
    }
   ],
   "source": [
    "a = np.arange(28)\n",
    "print(a)\n",
    "a = a.reshape(4, 7)\n",
    "print(a)\n",
    "print(a.ndim)"
   ]
  },
  {
   "cell_type": "code",
   "execution_count": 38,
   "id": "68da36e0",
   "metadata": {},
   "outputs": [
    {
     "name": "stdout",
     "output_type": "stream",
     "text": [
      "[0 1 2 3 4 5 6 7 8 9]\n",
      "3\n"
     ]
    }
   ],
   "source": [
    "a = np.arange(10)\n",
    "print(a)\n",
    "a = a.reshape(2, 5, 1)\n",
    "print(a.ndim)"
   ]
  },
  {
   "cell_type": "code",
   "execution_count": 40,
   "id": "591e4882",
   "metadata": {},
   "outputs": [
    {
     "name": "stdout",
     "output_type": "stream",
     "text": [
      "[[1 2 3]\n",
      " [4 5 6]\n",
      " [7 8 9]] \n",
      "\n",
      "[[[1]\n",
      "  [2]\n",
      "  [3]]\n",
      "\n",
      " [[4]\n",
      "  [5]\n",
      "  [6]]\n",
      "\n",
      " [[7]\n",
      "  [8]\n",
      "  [9]]]\n",
      "3\n"
     ]
    }
   ],
   "source": [
    "a = np.array([[1, 2, 3],\n",
    "              [4, 5, 6],\n",
    "              [7, 8, 9]])\n",
    "\n",
    "print(a,\"\\n\")\n",
    "a = a.reshape(3, 3, 1)\n",
    "print(a)\n",
    "print(a.ndim)\n",
    "\n"
   ]
  },
  {
   "cell_type": "code",
   "execution_count": 44,
   "id": "2af2815a",
   "metadata": {},
   "outputs": [
    {
     "name": "stdout",
     "output_type": "stream",
     "text": [
      "2d array\n",
      " [[1 2 3]\n",
      " [4 5 6]]\n",
      "2d to 1d\n",
      " [1 2 3 4 5 6]\n"
     ]
    }
   ],
   "source": [
    "a = np.array([[1, 2, 3],\n",
    "              [4, 5, 6]])\n",
    "print(\"2d array\\n\", a)\n",
    "a = a.reshape(6)\n",
    "print(\"2d to 1d\\n\", a)\n"
   ]
  },
  {
   "cell_type": "code",
   "execution_count": 42,
   "id": "d5ade941",
   "metadata": {},
   "outputs": [
    {
     "name": "stdout",
     "output_type": "stream",
     "text": [
      "3d\n",
      " [[[1 2]\n",
      "  [3 4]\n",
      "  [5 6]]]\n",
      "3d to 1d\n",
      " [1 2 3 4 5 6]\n"
     ]
    }
   ],
   "source": [
    "a = np.array([[[1, 2],\n",
    "               [3, 4],\n",
    "               [5, 6]]])\n",
    "print(\"3d\\n\",a)\n",
    "a = a.reshape(6)\n",
    "print(\"3d to 1d\\n\", a)"
   ]
  },
  {
   "cell_type": "code",
   "execution_count": 46,
   "id": "70de919d",
   "metadata": {},
   "outputs": [
    {
     "name": "stdout",
     "output_type": "stream",
     "text": [
      "3d array\n",
      " [[[1 2]\n",
      "  [3 4]\n",
      "  [4 5]]]\n",
      "3d to 1d array\n",
      " [1 2 3 4 4 5]\n"
     ]
    }
   ],
   "source": [
    "array = np.array([[[1, 2],\n",
    "                   [3, 4], \n",
    "                   [4, 5]]])\n",
    "print(\"3d array\\n\", array)\n",
    "array = array.reshape(-1)\n",
    "print(\"3d to 1d array\\n\", array)"
   ]
  },
  {
   "cell_type": "code",
   "execution_count": null,
   "id": "78ce4717",
   "metadata": {},
   "outputs": [],
   "source": []
  }
 ],
 "metadata": {
  "kernelspec": {
   "display_name": ".venv",
   "language": "python",
   "name": "python3"
  },
  "language_info": {
   "codemirror_mode": {
    "name": "ipython",
    "version": 3
   },
   "file_extension": ".py",
   "mimetype": "text/x-python",
   "name": "python",
   "nbconvert_exporter": "python",
   "pygments_lexer": "ipython3",
   "version": "3.13.3"
  }
 },
 "nbformat": 4,
 "nbformat_minor": 5
}
