{
 "cells": [
  {
   "cell_type": "markdown",
   "id": "7a0d2f31",
   "metadata": {},
   "source": [
    "Questions"
   ]
  },
  {
   "cell_type": "code",
   "execution_count": 3,
   "id": "750e4b19",
   "metadata": {},
   "outputs": [
    {
     "name": "stdout",
     "output_type": "stream",
     "text": [
      "Elements from index 2 to 5 [30 40 50 60]\n"
     ]
    }
   ],
   "source": [
    "# 1. [10, 20, 30, 40, 50, 60, 70, 80]\n",
    "# Slice elements from index 2 to 5.\n",
    "import numpy as np\n",
    "arr = np.array([10, 20, 30 , 40, 50, 60, 70, 80])\n",
    "print(\"Elements from index 2 to 5\", arr[2:6])"
   ]
  },
  {
   "cell_type": "code",
   "execution_count": 8,
   "id": "86968714",
   "metadata": {},
   "outputs": [
    {
     "name": "stdout",
     "output_type": "stream",
     "text": [
      "Second and Third row\n",
      " [[25 30 35 40]\n",
      " [45 50 55 60]]\n",
      "Last 2 columns\n",
      " [[15 20]\n",
      " [35 40]\n",
      " [55 60]\n",
      " [75 80]]\n"
     ]
    }
   ],
   "source": [
    "# 2. [[5, 10, 15, 20],\n",
    "#  [25, 30, 35, 40],\n",
    "#  [45, 50, 55, 60],\n",
    "#  [65, 70, 75, 80]]\n",
    "# Extract the second and third rows\n",
    "\n",
    "arr = np.array([[5, 10, 15, 20],\n",
    "                [25, 30, 35, 40],\n",
    "                [45, 50, 55, 60],\n",
    "                [65, 70, 75, 80]])\n",
    "\n",
    "print(\"Second and Third row\\n\", arr[1:3])\n",
    "\n",
    "# 3. From the same array, extract the last 2 columns from all rows.\n",
    "print(\"Last 2 columns\\n\", arr[:, -2:])"
   ]
  },
  {
   "cell_type": "code",
   "execution_count": 13,
   "id": "f41c2f25",
   "metadata": {},
   "outputs": [
    {
     "name": "stdout",
     "output_type": "stream",
     "text": [
      "Every Second Element\n",
      " [200 400 600]\n"
     ]
    }
   ],
   "source": [
    "# 4. arr = np.array([100, 200, 300, 400, 500, 600])\n",
    "# Slice the array to get every second element.\n",
    "\n",
    "arr = np.array([100, 200, 300, 400, 500, 600])\n",
    "print(\"Every Second Element\\n\", arr[1::2])"
   ]
  },
  {
   "cell_type": "code",
   "execution_count": 82,
   "id": "2cce019d",
   "metadata": {},
   "outputs": [
    {
     "name": "stdout",
     "output_type": "stream",
     "text": [
      "(2, 2, 3)\n",
      "First block\n",
      " [[1 2 3]\n",
      " [4 5 6]]\n",
      "Second row from the second block\n",
      " [10 11 12]\n",
      "Second column across all blocks and rows\n",
      " [[ 2  5]\n",
      " [ 8 11]]\n",
      "Element 9 using indexing\n",
      " 9\n",
      "Last row from each block\n",
      " [[ 4  5  6]\n",
      " [10 11 12]]\n",
      "Last element from each row of each block\n",
      " [[ 3  6]\n",
      " [ 9 12]]\n",
      "All elements greater than 5\n",
      " [ 6  7  8  9 10 11 12]\n"
     ]
    }
   ],
   "source": [
    "# Create a 3D Array \n",
    "# QUESTIONS \n",
    "# 1. Extract the first block (i.e., the first 2D array).\n",
    "# 2. Extract the second row from the second block.\n",
    "# 3. Extract the second column across all blocks and rows.\n",
    "# 4. Extract the element \"9\" using indexing.\n",
    "# 5. Extract the last row from each block.\n",
    "# 6. Extract the last element from each row of each block.\n",
    "# 7. Extract all elements greater than 5.\n",
    "\n",
    "arr_3d = np.array([[[1, 2, 3],\n",
    "                 [4, 5, 6]],\n",
    "                 [[7, 8, 9],\n",
    "                  [10, 11, 12]]\n",
    "                 ])\n",
    "print(arr_3d.shape)\n",
    "\n",
    "print(\"First block\\n\", arr_3d[0])\n",
    "print(\"Second row from the second block\\n\", arr_3d[1,1])\n",
    "print(\"Second column across all blocks and rows\\n\", arr_3d[:, :, 1])\n",
    "print(\"Element 9 using indexing\\n\", arr_3d[1, 0, 2])\n",
    "print(\"Last row from each block\\n\", arr_3d[:, 1])\n",
    "print(\"Last element from each row of each block\\n\", arr_3d[:, :, -1] )\n",
    "greater_than_5 = arr_3d>5\n",
    "print(\"All elements greater than 5\\n\", arr_3d[greater_than_5])\n",
    "\n",
    "\n"
   ]
  },
  {
   "cell_type": "code",
   "execution_count": 59,
   "id": "7ac48f4f",
   "metadata": {},
   "outputs": [
    {
     "name": "stdout",
     "output_type": "stream",
     "text": [
      "Slice elements from index 2 to 5 [40 50 60]\n",
      "Every second element [20 40 60]\n",
      "Reverse the array [80 70 60 50 40 30 20 10]\n"
     ]
    }
   ],
   "source": [
    "# Create a 1D array: [10, 20, 30, 40, 50, 60, 70, 80].\n",
    "# a) Slice elements from index 2 to 5.\n",
    "# b) Get every second element.\n",
    "# c) Reverse the array.\n",
    "\n",
    "array = np.array([10, 20, 30, 40, 50, 60, 70, 80])\n",
    "\n",
    "print(\"Slice elements from index 2 to 5\", array[3:6])\n",
    "print(\"Every second element\",array[1:6:2])\n",
    "print(\"Reverse the array\", array[::-1])\n"
   ]
  },
  {
   "cell_type": "code",
   "execution_count": 80,
   "id": "192bde51",
   "metadata": {},
   "outputs": [
    {
     "name": "stdout",
     "output_type": "stream",
     "text": [
      "[50 60 70 80]\n"
     ]
    }
   ],
   "source": [
    "a = np.array([10, 20, 30, 40, 50, 60, 70, 80])\n",
    "b=np.where(a>40)\n",
    "print(a[b])"
   ]
  },
  {
   "cell_type": "code",
   "execution_count": 2,
   "id": "67d1f5ae",
   "metadata": {},
   "outputs": [
    {
     "name": "stdout",
     "output_type": "stream",
     "text": [
      "Second and Third row\n",
      " [[25 30 35 40]\n",
      " [45 50 55 60]]\n",
      "First two columns [[ 5 10]\n",
      " [25 30]\n",
      " [45 50]\n",
      " [65 70]]\n",
      "Slice the submatrix [[30, 35], [50, 55]]\n",
      " [[30 35]\n",
      " [50 55]]\n",
      "All the element from the last row in the reverse order\n",
      " [80 75 70 65]\n"
     ]
    }
   ],
   "source": [
    "# # Create a 2d Array\n",
    "# Extract the second and third rows.\n",
    "# Get the first two columns.\n",
    "# Slice the submatrix [[30, 35], [50, 55]].\n",
    "# Get all elements of the last row in reverse order.\n",
    "import numpy as np\n",
    "array2d = np.array([\n",
    "        [5, 10, 15, 20],\n",
    "        [25, 30, 35, 40],\n",
    "        [45, 50, 55, 60],\n",
    "        [65, 70, 75, 80]\n",
    "                        ])\n",
    "\n",
    "print(\"Second and Third row\\n\", array2d[1:3])\n",
    "print(\"First two columns\",array2d[:,:2] )\n",
    "print(\"Slice the submatrix [[30, 35], [50, 55]]\\n\", array2d[1:3, 1:3])\n",
    "print(\"All the element from the last row in the reverse order\\n\",array2d[-1, ::-1] )"
   ]
  },
  {
   "cell_type": "code",
   "execution_count": null,
   "id": "95f2c0b1",
   "metadata": {},
   "outputs": [
    {
     "name": "stdout",
     "output_type": "stream",
     "text": [
      "First block\n",
      " [[1 2 3]\n",
      " [4 5 6]]\n",
      "First row of each block [[ 1  2  3]\n",
      " [ 7  8  9]\n",
      " [13 14 15]]\n",
      "Last Column\n",
      " [[ 3  6]\n",
      " [ 9 12]\n",
      " [15 18]]\n",
      "Middle Block\n",
      " [[ 7  8  9]\n",
      " [10 11 12]]\n"
     ]
    }
   ],
   "source": [
    "# Create a 3D array\n",
    "# Extract the first block ([[1,2,3],[4,5,6]]).\n",
    "# Slice out all blocks but only the first row of each.\n",
    "# Get all blocks, only the last column (3,6,9,12,15,18).\n",
    "# Extract the middle block ([[7,8,9],[10,11,12]]).\n",
    "\n",
    "array3d = np.array([\n",
    "                    [[1, 2, 3], \n",
    "                     [4, 5, 6]],\n",
    "                    [[7, 8, 9], \n",
    "                     [10, 11, 12]],\n",
    "                    [[13, 14, 15], \n",
    "                     [16, 17, 18]]\n",
    "                                    ])\n",
    "\n",
    "print(\"First block\\n\", array3d[0])\n",
    "print(\"First row of each block\", array3d[:, 0])\n",
    "print(\"Last Column\\n\", array3d[:, :, -1])\n",
    "print(\"Middle Block\\n\", array3d[1, :])\n",
    "\n",
    "\n",
    "\n"
   ]
  }
 ],
 "metadata": {
  "kernelspec": {
   "display_name": ".venv",
   "language": "python",
   "name": "python3"
  },
  "language_info": {
   "codemirror_mode": {
    "name": "ipython",
    "version": 3
   },
   "file_extension": ".py",
   "mimetype": "text/x-python",
   "name": "python",
   "nbconvert_exporter": "python",
   "pygments_lexer": "ipython3",
   "version": "3.13.3"
  }
 },
 "nbformat": 4,
 "nbformat_minor": 5
}
