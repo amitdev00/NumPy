{
 "cells": [
  {
   "cell_type": "markdown",
   "id": "f3de0bee",
   "metadata": {},
   "source": [
    "Q1. Iterate through the following 2D array using nditer and print each element.\n"
   ]
  },
  {
   "cell_type": "code",
   "execution_count": 22,
   "id": "16d2b37a",
   "metadata": {},
   "outputs": [
    {
     "name": "stdout",
     "output_type": "stream",
     "text": [
      "1\n",
      "2\n",
      "3\n",
      "4\n",
      "5\n",
      "6\n",
      "7\n",
      "8\n",
      "[1 2 3 4 5 6 7 8]\n"
     ]
    }
   ],
   "source": [
    "import numpy as np\n",
    "a = np.array([[1, 2, 3, 4], [5, 6, 7, 8]])\n",
    "\n",
    "for element in np.nditer(a):\n",
    "    print(element)\n",
    "\n",
    "with_new_row = np.hstack(a)\n",
    "print(with_new_row)"
   ]
  },
  {
   "cell_type": "markdown",
   "id": "36640bd5",
   "metadata": {},
   "source": [
    "Q2. Print indices and values of each element in a 2D array.\n"
   ]
  },
  {
   "cell_type": "code",
   "execution_count": 6,
   "id": "2a365816",
   "metadata": {},
   "outputs": [
    {
     "name": "stdout",
     "output_type": "stream",
     "text": [
      "((0, 0), np.int64(1))\n",
      "((0, 1), np.int64(2))\n",
      "((0, 2), np.int64(3))\n",
      "((0, 3), np.int64(4))\n",
      "((0, 4), np.int64(5))\n",
      "((1, 0), np.int64(6))\n",
      "((1, 1), np.int64(7))\n",
      "((1, 2), np.int64(8))\n",
      "((1, 3), np.int64(9))\n",
      "((1, 4), np.int64(0))\n"
     ]
    }
   ],
   "source": [
    "b = np.array([[1, 2, 3, 4, 5],\n",
    "              [6, 7, 8, 9, 0]])\n",
    "for element in np.ndenumerate(b):\n",
    "    print(element)"
   ]
  },
  {
   "cell_type": "markdown",
   "id": "8a9a2a55",
   "metadata": {},
   "source": [
    "Q3. Find indices of elements greater than 25.\n"
   ]
  },
  {
   "cell_type": "code",
   "execution_count": 11,
   "id": "5db73958",
   "metadata": {},
   "outputs": [
    {
     "name": "stdout",
     "output_type": "stream",
     "text": [
      "[26 35 43 43 65 78 87 98]\n"
     ]
    }
   ],
   "source": [
    "c = np.array([1, 2, 3, 4, 5, 6, 87, 98, 35, 25, 26, 43, 65, 43, 78])\n",
    "\n",
    "greater_than_25 = np.where(c > 25)\n",
    "sorted_c = np.sort(c[greater_than_25])\n",
    "print(sorted_c)"
   ]
  },
  {
   "cell_type": "markdown",
   "id": "71f19f9c",
   "metadata": {},
   "source": [
    "Q4. Sort the array in ascending and descending order."
   ]
  },
  {
   "cell_type": "code",
   "execution_count": 18,
   "id": "072c4e67",
   "metadata": {},
   "outputs": [
    {
     "name": "stdout",
     "output_type": "stream",
     "text": [
      "Sorted array in ascending order: \n",
      " [ 0  1  2  3  3  5  5  6  6  8  9 23 45 68]\n",
      "Sorted in descending order; \n",
      " [68 45 23  9  8  6  6  5  5  3  3  2  1  0]\n"
     ]
    }
   ],
   "source": [
    "d = np.array([5, 6, 3, 9, 6, 3, 2, 1, 5, 0, 8, 23, 45, 68])\n",
    "\n",
    "sorted_in_ascending = np.sort(d)\n",
    "print(\"Sorted array in ascending order: \\n\", sorted_in_ascending)\n",
    "\n",
    "sorted_in_descending = np.sort(d)[::-1]\n",
    "print(\"Sorted in descending order; \\n\", sorted_in_descending)"
   ]
  },
  {
   "cell_type": "markdown",
   "id": "08554ce8",
   "metadata": {},
   "source": [
    "Q5. Sort rows and columns of a 2D array.\n"
   ]
  },
  {
   "cell_type": "code",
   "execution_count": 51,
   "id": "1af34993",
   "metadata": {},
   "outputs": [
    {
     "name": "stdout",
     "output_type": "stream",
     "text": [
      "unsorted array: \n",
      " [[9 2 1]\n",
      " [9 8 3]\n",
      " [7 0 3]]\n",
      "Sorted Array: \n",
      " [[1 2 9]\n",
      " [3 8 9]\n",
      " [0 3 7]]\n"
     ]
    }
   ],
   "source": [
    "import random\n",
    "e = np.random.randint(10, size = (3, 3))\n",
    "print(\"unsorted array: \\n\" ,e)\n",
    "sorted_e = np.sort(e)\n",
    "print(\"Sorted Array: \\n\", sorted_e)"
   ]
  },
  {
   "cell_type": "markdown",
   "id": "985a9e41",
   "metadata": {},
   "source": [
    "Q6. Find the index where value 6 should be inserted in sorted array [1, 3, 5, 7, 9]."
   ]
  },
  {
   "cell_type": "code",
   "execution_count": 52,
   "id": "c39a0d08",
   "metadata": {},
   "outputs": [
    {
     "name": "stdout",
     "output_type": "stream",
     "text": [
      "Index where 6 should be inserted to maintain order:  3\n"
     ]
    }
   ],
   "source": [
    "f = np.array([1, 3, 5, 7, 9])\n",
    "check_where_6_be_inserted = np.searchsorted(f, 6)\n",
    "print(\"Index where 6 should be inserted to maintain order: \", check_where_6_be_inserted)"
   ]
  },
  {
   "cell_type": "markdown",
   "id": "b3341cf0",
   "metadata": {},
   "source": [
    "Q7. Find where to insert 5 using side='left' and side='right'."
   ]
  },
  {
   "cell_type": "code",
   "execution_count": 97,
   "id": "9cb96cf6",
   "metadata": {},
   "outputs": [
    {
     "name": "stdout",
     "output_type": "stream",
     "text": [
      "Index where 5 should be inserted to maintain order:  4\n"
     ]
    }
   ],
   "source": [
    "i = np.array([[1, 2, 3, 4],\n",
    "              [6, 7, 8, 9],\n",
    "              [10, 11, 12, 13]])\n",
    "\n",
    "reshaped_i = i.reshape(-1)\n",
    "check_5_insertion = np.searchsorted(reshaped_i, 5, side= \"left\")\n",
    "print(\"Index where 5 should be inserted to maintain order: \", check_5_insertion)\n"
   ]
  },
  {
   "cell_type": "markdown",
   "id": "a3de53c6",
   "metadata": {},
   "source": [
    "Q8. Iterate a 3D array using nditer and print all values in a single line."
   ]
  },
  {
   "cell_type": "code",
   "execution_count": 3,
   "id": "a9f126ac",
   "metadata": {},
   "outputs": [
    {
     "name": "stdout",
     "output_type": "stream",
     "text": [
      "1\n",
      "2\n",
      "3\n",
      "4\n",
      "5\n",
      "6\n",
      "7\n",
      "8\n",
      "9\n"
     ]
    }
   ],
   "source": [
    "import numpy as np \n",
    "g = np.array([[[1, 2, 3], [4, 5, 6], [7, 8, 9]]])\n",
    "\n",
    "for element in np.nditer(g):\n",
    "    print(element)"
   ]
  },
  {
   "cell_type": "markdown",
   "id": "fefaa615",
   "metadata": {},
   "source": [
    "Q9. Print only the elements on the diagonal using ndenumerate.\n"
   ]
  },
  {
   "cell_type": "code",
   "execution_count": 98,
   "id": "268634fd",
   "metadata": {},
   "outputs": [
    {
     "name": "stdout",
     "output_type": "stream",
     "text": [
      "(0, 0) 1\n",
      "(1, 1) 5\n",
      "(2, 2) 9\n"
     ]
    }
   ],
   "source": [
    "import numpy as np\n",
    "h = np.array([[1, 2, 3],\n",
    "              [4, 5, 6],\n",
    "              [7, 8, 9]])\n",
    "\n",
    "for i, j  in np.ndenumerate(h):\n",
    "    if i[0] == i[1]:\n",
    "        print( i, j)"
   ]
  },
  {
   "cell_type": "markdown",
   "id": "40862c66",
   "metadata": {},
   "source": [
    "Q10. Replace negative numbers with 0 using ndenumerate."
   ]
  },
  {
   "cell_type": "code",
   "execution_count": 118,
   "id": "8ef1da68",
   "metadata": {},
   "outputs": [
    {
     "name": "stdout",
     "output_type": "stream",
     "text": [
      "1 2 3 4 5 6 7 0 9 10 0 12 13 0 15 16 0 18 19 20 "
     ]
    }
   ],
   "source": [
    "j = np.array([[[1, 2, 3, 4, 5],\n",
    "               [6, 7, -8, 9, 10],\n",
    "               [-11, 12, 13, -14, 15],\n",
    "               [16, -17, 18, 19, 20]]])\n",
    "reshaped_j = j.reshape(-1)\n",
    "\n",
    "for i, k in np.ndenumerate(j):\n",
    "    replace_with_0 = np.where(k < 0, k - k, k)\n",
    "    print(replace_with_0, end = \" \")\n",
    "    \n",
    "    \n",
    "    "
   ]
  },
  {
   "cell_type": "markdown",
   "id": "7b2903fc",
   "metadata": {},
   "source": [
    "Q11. Find even numbers and their indices."
   ]
  },
  {
   "cell_type": "code",
   "execution_count": 121,
   "id": "bd76a3c8",
   "metadata": {},
   "outputs": [
    {
     "name": "stdout",
     "output_type": "stream",
     "text": [
      "(0, 0, 1) 2\n",
      "(0, 0, 3) 4\n",
      "(0, 1, 1) 6\n",
      "(0, 1, 3) 8\n",
      "(0, 2, 1) 10\n",
      "(0, 2, 3) 12\n",
      "(0, 3, 1) 14\n",
      "(0, 3, 3) 16\n",
      "(0, 4, 1) 18\n",
      "(0, 4, 3) 20\n"
     ]
    }
   ],
   "source": [
    "k = np.array([[[1, 2, 3, 4],\n",
    "             [5, 6, 7, 8],\n",
    "             [9, 10, 11, 12],\n",
    "             [13, 14, 15, 16],\n",
    "             [17, 18, 19, 20]]])\n",
    "\n",
    "for i, j in np.ndenumerate(k):\n",
    "    if j % 2 == 0:\n",
    "        print(i, j)\n"
   ]
  },
  {
   "cell_type": "markdown",
   "id": "b2877727",
   "metadata": {},
   "source": [
    "Q12. Replace all numbers greater than 50 with 100."
   ]
  },
  {
   "cell_type": "code",
   "execution_count": 132,
   "id": "7af987e9",
   "metadata": {},
   "outputs": [
    {
     "name": "stdout",
     "output_type": "stream",
     "text": [
      "(0, 0, 0) 100\n",
      "(0, 0, 1) 34\n",
      "(0, 0, 2) 100\n",
      "(0, 0, 3) 100\n",
      "(0, 1, 0) 100\n",
      "(0, 1, 1) 33\n",
      "(0, 1, 2) 100\n",
      "(0, 1, 3) 32\n",
      "(0, 2, 0) 45\n",
      "(0, 2, 1) 12\n",
      "(0, 2, 2) 100\n",
      "(0, 2, 3) 17\n",
      "(0, 3, 0) 1\n",
      "(0, 3, 1) 100\n",
      "(0, 3, 2) 7\n",
      "(0, 3, 3) 3\n",
      "[[[100  34 100 100]\n",
      "  [100  33 100  32]\n",
      "  [ 45  12 100  17]\n",
      "  [  1 100   7   3]]]\n"
     ]
    }
   ],
   "source": [
    "l = np.array([[[89, 34, 55, 78],\n",
    "               [67, 33, 54, 32],\n",
    "               [45, 12, 51, 17],\n",
    "               [1, 90, 7, 3]]])\n",
    "\n",
    "for i, j in np.ndenumerate(l):\n",
    "    if j > 50:\n",
    "        j = 100\n",
    "    print(i, j)\n",
    "\n",
    "replace_with_100 = np.where(l > 50, 100, l)\n",
    "print(replace_with_100)"
   ]
  },
  {
   "cell_type": "markdown",
   "id": "102cea34",
   "metadata": {},
   "source": [
    "Q13. Sort a 2D array column-wise."
   ]
  },
  {
   "cell_type": "code",
   "execution_count": 157,
   "id": "ae55637b",
   "metadata": {},
   "outputs": [
    {
     "name": "stdout",
     "output_type": "stream",
     "text": [
      "[[ 1  3  2]\n",
      " [ 6  5  4]\n",
      " [ 7  8  9]\n",
      " [10 11 12]]\n"
     ]
    }
   ],
   "source": [
    "m = np.array([[10, 11, 12],\n",
    "              [7, 8, 9],\n",
    "              [1, 3, 2],\n",
    "              [6, 5, 4]\n",
    "              ])\n",
    "\n",
    "sorted_m_column_wise = np.sort(m, axis=0)\n",
    "print(sorted_m_column_wise)"
   ]
  },
  {
   "cell_type": "markdown",
   "id": "63f0e62a",
   "metadata": {},
   "source": [
    "Q14. Insert multiple values [4, 10] in sorted array [1, 3, 5, 7, 9]."
   ]
  },
  {
   "cell_type": "code",
   "execution_count": 198,
   "id": "96b251dc",
   "metadata": {},
   "outputs": [
    {
     "name": "stdout",
     "output_type": "stream",
     "text": [
      "[ 1  3  4  5 10  9]\n"
     ]
    }
   ],
   "source": [
    "n = np.array([1, 3, 5, 9])\n",
    "inserted_values = np.insert(n, [2, -1], [4, 10])\n",
    "print(inserted_values)\n"
   ]
  },
  {
   "cell_type": "markdown",
   "id": "68d39d61",
   "metadata": {},
   "source": [
    "Q15. Insert values [2, 8] into sorted array and actually insert them."
   ]
  },
  {
   "cell_type": "code",
   "execution_count": null,
   "id": "3de1e68b",
   "metadata": {},
   "outputs": [
    {
     "name": "stdout",
     "output_type": "stream",
     "text": [
      "[1 3 5 9 2 8]\n"
     ]
    }
   ],
   "source": [
    "o = np.array([1, 3, 5, 9])\n",
    "inserted_value = np.insert(o, len(o) ,[2, 8])\n",
    "print(inserted_value) "
   ]
  }
 ],
 "metadata": {
  "kernelspec": {
   "display_name": ".venv",
   "language": "python",
   "name": "python3"
  },
  "language_info": {
   "codemirror_mode": {
    "name": "ipython",
    "version": 3
   },
   "file_extension": ".py",
   "mimetype": "text/x-python",
   "name": "python",
   "nbconvert_exporter": "python",
   "pygments_lexer": "ipython3",
   "version": "3.13.3"
  }
 },
 "nbformat": 4,
 "nbformat_minor": 5
}
