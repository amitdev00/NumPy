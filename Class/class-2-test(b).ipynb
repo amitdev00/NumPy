{
 "cells": [
  {
   "cell_type": "markdown",
   "id": "28d49503",
   "metadata": {},
   "source": [
    "Datatype Practice Questions"
   ]
  },
  {
   "cell_type": "code",
   "execution_count": 2,
   "id": "0016bd18",
   "metadata": {},
   "outputs": [
    {
     "name": "stdout",
     "output_type": "stream",
     "text": [
      "Datatype of Array is:  int64\n"
     ]
    }
   ],
   "source": [
    "# Create a NumPy array a with elements [10, 20, 30, 40]. Check its data type.\n",
    "import numpy as np\n",
    "\n",
    "array = np.array([10, 20, 30, 40])\n",
    "check_type = array.dtype\n",
    "print(\"Datatype of Array is: \", check_type)"
   ]
  },
  {
   "cell_type": "code",
   "execution_count": 4,
   "id": "41b8e95c",
   "metadata": {},
   "outputs": [
    {
     "name": "stdout",
     "output_type": "stream",
     "text": [
      "Datatype of Array int64\n"
     ]
    }
   ],
   "source": [
    "# Create a NumPy array b with elements [1.5, 2.7, 3.8]. Convert it to integer type.\n",
    "\n",
    "b = np.array([1.5, 2.7, 3.8])\n",
    "b_to_int = b.astype(int)\n",
    "print(\"Datatype of Array\", b_to_int.dtype)"
   ]
  },
  {
   "cell_type": "code",
   "execution_count": 3,
   "id": "615c0137",
   "metadata": {},
   "outputs": [
    {
     "name": "stdout",
     "output_type": "stream",
     "text": [
      "Original Array:  [ True False  True]\n",
      "Array after changing datatype:  [1. 0. 1.]\n",
      "Datatype of Array is:  float64\n"
     ]
    }
   ],
   "source": [
    "import numpy as np\n",
    "# Create a NumPy array c with elements [True, False, True]. Convert it to float.\n",
    "\n",
    "c = np.array([True, False, True])\n",
    "c_to_float = c.astype(float)\n",
    "print(\"Original Array: \", c)\n",
    "print(\"Array after changing datatype: \", c_to_float)\n",
    "print(\"Datatype of Array is: \", c_to_float.dtype)\n"
   ]
  },
  {
   "cell_type": "code",
   "execution_count": 5,
   "id": "21caa05f",
   "metadata": {},
   "outputs": [
    {
     "name": "stdout",
     "output_type": "stream",
     "text": [
      "Datatype of the array is:  <U21\n"
     ]
    }
   ],
   "source": [
    "# Create an array d with elements [1, 2, '3', 4]. Check its data type.\n",
    "d = np.array([1, 2, '3', 4])\n",
    "datatype_check = d.dtype\n",
    "print(\"Datatype of the array is: \", datatype_check)"
   ]
  },
  {
   "cell_type": "code",
   "execution_count": 6,
   "id": "182824dc",
   "metadata": {},
   "outputs": [
    {
     "name": "stdout",
     "output_type": "stream",
     "text": [
      "Datatype of the array is:  <U1\n"
     ]
    }
   ],
   "source": [
    "# Create an array e of strings ['1', '2', '3'] and convert it to integers.\n",
    "e = np.array(['1', '2', '3'])\n",
    "datatype_check = e.dtype\n",
    "print(\"Datatype of the array is: \", datatype_check)"
   ]
  },
  {
   "cell_type": "code",
   "execution_count": 9,
   "id": "56e22774",
   "metadata": {},
   "outputs": [
    {
     "name": "stdout",
     "output_type": "stream",
     "text": [
      "Integers array ot unicode string ['10' '20' '30']\n",
      "Datatype of the array is:  <U21\n"
     ]
    }
   ],
   "source": [
    "# Create a NumPy array of integers [10, 20, 30] and convert it to Unicode string type.\n",
    "integers = np.array([10, 20 , 30])\n",
    "integers_to_unicode = integers.astype(str)\n",
    "print(\"Integers array ot unicode string\", integers_to_unicode)\n",
    "print(\"Datatype of the array is: \", integers_to_unicode.dtype)"
   ]
  },
  {
   "cell_type": "code",
   "execution_count": null,
   "id": "1e7b4692",
   "metadata": {},
   "outputs": [
    {
     "name": "stdout",
     "output_type": "stream",
     "text": [
      "Original Array [[1 2]\n",
      " [3 4]]\n",
      "Array after changing the datatype [[1. 2.]\n",
      " [3. 4.]]\n",
      "Datatype of the array float64\n"
     ]
    }
   ],
   "source": [
    "# Create a 2D array f = [[1, 2], [3, 4]] and convert it to float type.\n",
    "f = np.array([[1, 2], [3, 4]])\n",
    "f_to_float = f.astype(float)\n",
    "print(\"Original Array\", f)\n",
    "print(\"Array after changing the datatype\", f_to_float)\n",
    "print(\"Datatype of the array\", f_to_float.dtype)"
   ]
  },
  {
   "cell_type": "code",
   "execution_count": null,
   "id": "cf12c61d",
   "metadata": {},
   "outputs": [
    {
     "name": "stdout",
     "output_type": "stream",
     "text": [
      "Original array ['10' 'hello' '3.5'] \n",
      "Datatype of original array:  <U32\n",
      "Array after changing datatype ['10' 'hello' '3.5'] \n",
      "Datatype of modified array:  object\n"
     ]
    }
   ],
   "source": [
    "# Create an object array with elements [10, 'hello', 3.5]. Check its type.\n",
    "arr = np.array([10, 'hello', 3.5])\n",
    "print(\"Original array\", arr,\"\\nDatatype of original array: \", arr.dtype)\n",
    "\n",
    "arr_to_object = arr.astype(object)\n",
    "print(\"Array after changing datatype\", arr_to_object,\"\\nDatatype of modified array: \", arr_to_object.dtype)"
   ]
  },
  {
   "cell_type": "code",
   "execution_count": 18,
   "id": "10428532",
   "metadata": {},
   "outputs": [
    {
     "name": "stdout",
     "output_type": "stream",
     "text": [
      "Original array:  [1.2 3.5 5.7] \n",
      "Datatype of original array:  float64\n",
      "Array after changing datatype to boolean:  [ True  True  True] \n",
      "Datatype of modified array:  bool\n"
     ]
    }
   ],
   "source": [
    "# Convert an array g = [1.2, 3.5, 5.7] to boolean type.\n",
    "g = np.array([1.2, 3.5, 5.7])\n",
    "g_to_bool = g.astype(bool)\n",
    "print(\"Original array: \", g,\"\\nDatatype of original array: \", g.dtype)\n",
    "print(\"Array after changing datatype to boolean: \", g_to_bool, \"\\nDatatype of modified array: \", g_to_bool.dtype)"
   ]
  },
  {
   "cell_type": "code",
   "execution_count": 21,
   "id": "1d13cb74",
   "metadata": {},
   "outputs": [
    {
     "name": "stdout",
     "output_type": "stream",
     "text": [
      "Datatype of original array:  int64\n",
      "Datatype of modified array:  <U21\n"
     ]
    }
   ],
   "source": [
    "# Create an array h = [65, 66, 67] and convert it to character (U1) type (Unicode character).\n",
    "h = np.array([65, 66, 67])\n",
    "h_to_U1 = h.astype(str)\n",
    "print(\"Datatype of original array: \", h.dtype)\n",
    "print(\"Datatype of modified array: \", h_to_U1.dtype)"
   ]
  },
  {
   "cell_type": "markdown",
   "id": "06a8718a",
   "metadata": {},
   "source": [
    "Reshape Practice Questions"
   ]
  },
  {
   "cell_type": "code",
   "execution_count": 26,
   "id": "7bd5d8d7",
   "metadata": {},
   "outputs": [
    {
     "name": "stdout",
     "output_type": "stream",
     "text": [
      "Original Array:  [1 2 3 4 5 6]\n",
      "\n",
      "Reshaped Array: \n",
      " [[1 2 3]\n",
      " [4 5 6]]\n"
     ]
    }
   ],
   "source": [
    "# Create an array a = [1, 2, 3, 4, 5, 6] and reshape it into a 2×3 array.\n",
    "\n",
    "a = np.array([1, 2, 3, 4, 5, 6])\n",
    "reshaped_a = a.reshape(2, 3)\n",
    "print(\"Original Array: \", a)\n",
    "print(\"\\nReshaped Array: \\n\", reshaped_a)"
   ]
  },
  {
   "cell_type": "code",
   "execution_count": 27,
   "id": "a7081e82",
   "metadata": {},
   "outputs": [
    {
     "name": "stdout",
     "output_type": "stream",
     "text": [
      "Original Array:  [1 2 3 4 5 6 7 8]\n",
      "\n",
      "Reshaped Array: \n",
      " [[1 2]\n",
      " [3 4]\n",
      " [5 6]\n",
      " [7 8]]\n"
     ]
    }
   ],
   "source": [
    "# Create an array b = [1, 2, 3, 4, 5, 6, 7, 8] and reshape it into a 4×2 array.\n",
    "b = np.array([1, 2, 3, 4, 5, 6, 7, 8])\n",
    "reshaped_b = b.reshape(4, 2)\n",
    "print(\"Original Array: \", b)\n",
    "print(\"\\nReshaped Array: \\n\", reshaped_b)"
   ]
  },
  {
   "cell_type": "code",
   "execution_count": 29,
   "id": "20a663d1",
   "metadata": {},
   "outputs": [
    {
     "name": "stdout",
     "output_type": "stream",
     "text": [
      "Original Array:  [ 0  1  2  3  4  5  6  7  8  9 10 11]\n",
      "\n",
      "Reshaped Array: \n",
      " [[ 0  1  2  3]\n",
      " [ 4  5  6  7]\n",
      " [ 8  9 10 11]]\n"
     ]
    }
   ],
   "source": [
    "# Reshape the array c = np.arange(12) into a 3×4 array.\n",
    "c = np.arange(12)\n",
    "print(\"Original Array: \", c)\n",
    "reshaped_c = c.reshape(3, 4)\n",
    "print(\"\\nReshaped Array: \\n\", reshaped_c)"
   ]
  },
  {
   "cell_type": "code",
   "execution_count": 31,
   "id": "c650b414",
   "metadata": {},
   "outputs": [
    {
     "name": "stdout",
     "output_type": "stream",
     "text": [
      "Original Array:  [0 1 2 3 4 5 6 7]\n",
      "\n",
      "Reshaped Array: \n",
      " [[[0 1]\n",
      "  [2 3]]\n",
      "\n",
      " [[4 5]\n",
      "  [6 7]]]\n"
     ]
    }
   ],
   "source": [
    "# Reshape d = np.arange(8) into a 2×2×2 3D array\n",
    "d = np.arange(8)\n",
    "print(\"Original Array: \", d)\n",
    "reshaped_d = d.reshape(2, 2, 2)\n",
    "print(\"\\nReshaped Array: \\n\", reshaped_d)"
   ]
  },
  {
   "cell_type": "code",
   "execution_count": 42,
   "id": "98cf018a",
   "metadata": {},
   "outputs": [
    {
     "name": "stdout",
     "output_type": "stream",
     "text": [
      "Original Array:  [ 0  1  2  3  4  5  6  7  8  9 10 11]\n",
      "\n",
      "Reshaped array: \n",
      " [[ 0  1  2  3]\n",
      " [ 4  5  6  7]\n",
      " [ 8  9 10 11]]\n"
     ]
    }
   ],
   "source": [
    "# Use -1 to automatically infer one dimension: reshape e = np.arange(12) into a 3×? array.\n",
    "e = np.arange(12)\n",
    "print(\"Original Array: \", e)\n",
    "reshaped_e = e.reshape(3, -1)\n",
    "print(\"\\nReshaped array: \\n\", reshaped_e)\n",
    "\n"
   ]
  },
  {
   "cell_type": "code",
   "execution_count": 34,
   "id": "ff2c2e60",
   "metadata": {},
   "outputs": [
    {
     "name": "stdout",
     "output_type": "stream",
     "text": [
      "Original Array: \n",
      " [[1 2 3]\n",
      " [4 5 6]]\n",
      "\n",
      "Reshaped Array:  [1 2 3 4 5 6]\n"
     ]
    }
   ],
   "source": [
    "# Flatten a 2D array f = [[1, 2, 3], [4, 5, 6]] into 1D\n",
    "f = np.array([[1, 2, 3], [4, 5, 6]])\n",
    "reshaped_f = f.reshape(-1)\n",
    "print(\"Original Array: \\n\", f)\n",
    "print(\"\\nReshaped Array: \", reshaped_f)"
   ]
  },
  {
   "cell_type": "code",
   "execution_count": 38,
   "id": "382adf18",
   "metadata": {},
   "outputs": [
    {
     "name": "stdout",
     "output_type": "stream",
     "text": [
      "Original Array: \n",
      " [[[ 0  1  2  3]\n",
      "  [ 4  5  6  7]\n",
      "  [ 8  9 10 11]]\n",
      "\n",
      " [[12 13 14 15]\n",
      "  [16 17 18 19]\n",
      "  [20 21 22 23]]]\n",
      "\n",
      "Reshaped Array: \n",
      " [[ 0  1  2  3  4  5]\n",
      " [ 6  7  8  9 10 11]\n",
      " [12 13 14 15 16 17]\n",
      " [18 19 20 21 22 23]]\n"
     ]
    }
   ],
   "source": [
    "# Reshape a 3D array g = np.arange(24).reshape(2, 3, 4) into 4×6.\n",
    "g  = np.arange(24).reshape(2, 3, 4)\n",
    "print(\"Original Array: \\n\", g)\n",
    "reshaped_g = g.reshape(4, 6)\n",
    "print(\"\\nReshaped Array: \\n\", reshaped_g)"
   ]
  },
  {
   "cell_type": "code",
   "execution_count": 40,
   "id": "bbf5cc5e",
   "metadata": {},
   "outputs": [
    {
     "name": "stdout",
     "output_type": "stream",
     "text": [
      "Original Array:  [1 2 3 4 5 6]\n"
     ]
    },
    {
     "ename": "ValueError",
     "evalue": "cannot reshape array of size 6 into shape (4,2)",
     "output_type": "error",
     "traceback": [
      "\u001b[31m---------------------------------------------------------------------------\u001b[39m",
      "\u001b[31mValueError\u001b[39m                                Traceback (most recent call last)",
      "\u001b[36mCell\u001b[39m\u001b[36m \u001b[39m\u001b[32mIn[40]\u001b[39m\u001b[32m, line 4\u001b[39m\n\u001b[32m      2\u001b[39m h = np.array([\u001b[32m1\u001b[39m, \u001b[32m2\u001b[39m, \u001b[32m3\u001b[39m, \u001b[32m4\u001b[39m, \u001b[32m5\u001b[39m, \u001b[32m6\u001b[39m])\n\u001b[32m      3\u001b[39m \u001b[38;5;28mprint\u001b[39m(\u001b[33m\"\u001b[39m\u001b[33mOriginal Array: \u001b[39m\u001b[33m\"\u001b[39m, h)\n\u001b[32m----> \u001b[39m\u001b[32m4\u001b[39m reshaped_h = \u001b[43mh\u001b[49m\u001b[43m.\u001b[49m\u001b[43mreshape\u001b[49m\u001b[43m(\u001b[49m\u001b[32;43m4\u001b[39;49m\u001b[43m,\u001b[49m\u001b[43m \u001b[49m\u001b[32;43m2\u001b[39;49m\u001b[43m)\u001b[49m\n\u001b[32m      5\u001b[39m \u001b[38;5;28mprint\u001b[39m(\u001b[33m\"\u001b[39m\u001b[38;5;130;01m\\n\u001b[39;00m\u001b[33mReshaped Array: \u001b[39m\u001b[38;5;130;01m\\n\u001b[39;00m\u001b[33m\"\u001b[39m, reshaped_h)\n",
      "\u001b[31mValueError\u001b[39m: cannot reshape array of size 6 into shape (4,2)"
     ]
    }
   ],
   "source": [
    "# Given h = np.array([1, 2, 3, 4, 5, 6]), try reshaping into 4×2 (should it work? Why/why not?)\n",
    "h = np.array([1, 2, 3, 4, 5, 6])\n",
    "print(\"Original Array: \", h)\n",
    "reshaped_h = h.reshape(4, 2)\n",
    "print(\"\\nReshaped Array: \\n\", reshaped_h)"
   ]
  },
  {
   "cell_type": "code",
   "execution_count": null,
   "id": "4564f4bc",
   "metadata": {},
   "outputs": [],
   "source": []
  }
 ],
 "metadata": {
  "kernelspec": {
   "display_name": ".venv",
   "language": "python",
   "name": "python3"
  },
  "language_info": {
   "codemirror_mode": {
    "name": "ipython",
    "version": 3
   },
   "file_extension": ".py",
   "mimetype": "text/x-python",
   "name": "python",
   "nbconvert_exporter": "python",
   "pygments_lexer": "ipython3",
   "version": "3.13.3"
  }
 },
 "nbformat": 4,
 "nbformat_minor": 5
}
