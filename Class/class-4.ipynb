{
 "cells": [
  {
   "cell_type": "code",
   "execution_count": 1,
   "id": "756a23aa",
   "metadata": {},
   "outputs": [],
   "source": [
    "import numpy as np"
   ]
  },
  {
   "cell_type": "code",
   "execution_count": 5,
   "id": "9b0c652d",
   "metadata": {},
   "outputs": [
    {
     "name": "stdout",
     "output_type": "stream",
     "text": [
      "[0 0 0 0 0]\n"
     ]
    }
   ],
   "source": [
    "a = np.zeros(5, dtype=int)\n",
    "print(a)"
   ]
  },
  {
   "cell_type": "code",
   "execution_count": null,
   "id": "2c386929",
   "metadata": {},
   "outputs": [
    {
     "name": "stdout",
     "output_type": "stream",
     "text": [
      "[[0 0]\n",
      " [0 0]]\n"
     ]
    }
   ],
   "source": [
    "b = np.zeros((2, 2), dtype=int)\n",
    "print(b)"
   ]
  },
  {
   "cell_type": "code",
   "execution_count": 13,
   "id": "2cade139",
   "metadata": {},
   "outputs": [
    {
     "name": "stdout",
     "output_type": "stream",
     "text": [
      "[[[1 1]\n",
      "  [1 1]]\n",
      "\n",
      " [[1 1]\n",
      "  [1 1]]]\n"
     ]
    }
   ],
   "source": [
    "c = np.ones((2, 2, 2), dtype=int)\n",
    "print(c)"
   ]
  },
  {
   "cell_type": "code",
   "execution_count": 43,
   "id": "b50c1d14",
   "metadata": {},
   "outputs": [
    {
     "name": "stdout",
     "output_type": "stream",
     "text": [
      "[[            0 2319120420656]\n",
      " [2319120422256 2319120422336]]\n"
     ]
    }
   ],
   "source": [
    "d = np.empty((2,2), dtype=int)\n",
    "print(d)"
   ]
  },
  {
   "cell_type": "markdown",
   "id": "824e22e8",
   "metadata": {},
   "source": [
    "arange function is used to create array with evenly spaced values within in a specified range"
   ]
  },
  {
   "cell_type": "code",
   "execution_count": 56,
   "id": "0b4fb194",
   "metadata": {},
   "outputs": [
    {
     "name": "stdout",
     "output_type": "stream",
     "text": [
      "[1 3 5 7 9]\n"
     ]
    }
   ],
   "source": [
    "e = np.arange(1, 11, 2)\n",
    "print(e)"
   ]
  },
  {
   "cell_type": "code",
   "execution_count": 83,
   "id": "e2ce6b94",
   "metadata": {},
   "outputs": [
    {
     "name": "stdout",
     "output_type": "stream",
     "text": [
      "1D Array:  [ 1  2  3  4  5  6  7  8  9 10 11 12 13 14 15 16 17 18 19 20]\n",
      "\n",
      "2D Array: \n",
      " [[ 1  2  3  4]\n",
      " [ 5  6  7  8]\n",
      " [ 9 10 11 12]\n",
      " [13 14 15 16]\n",
      " [17 18 19 20]]\n",
      "\n",
      "3D Array: \n",
      " [[[ 1  2]\n",
      "  [ 3  4]\n",
      "  [ 5  6]\n",
      "  [ 7  8]\n",
      "  [ 9 10]]\n",
      "\n",
      " [[11 12]\n",
      "  [13 14]\n",
      "  [15 16]\n",
      "  [17 18]\n",
      "  [19 20]]]\n"
     ]
    }
   ],
   "source": [
    "f = np.arange(1, 21)\n",
    "print(\"1D Array: \",f)\n",
    "reshaped_f = f.reshape((5,4))\n",
    "print(\"\\n2D Array: \\n\", reshaped_f)\n",
    "\n",
    "reshaped_f_into_3d = f.reshape((2, 5, 2))\n",
    "print(\"\\n3D Array: \\n\", reshaped_f_into_3d)"
   ]
  },
  {
   "cell_type": "markdown",
   "id": "ba854f51",
   "metadata": {},
   "source": [
    "Mathematical Functions\n"
   ]
  },
  {
   "cell_type": "code",
   "execution_count": 98,
   "id": "be89ac86",
   "metadata": {},
   "outputs": [
    {
     "name": "stdout",
     "output_type": "stream",
     "text": [
      "Addition of \n",
      "[[ 1  2  3  4  5]\n",
      " [ 6  7  8  9 10]\n",
      " [11 12 13 14 15]\n",
      " [16 17 18 19 20]] + \n",
      "\n",
      "[[21 22 23 24 25]\n",
      " [26 27 28 29 30]\n",
      " [31 32 33 34 35]\n",
      " [36 37 38 39 40]] = \n",
      "\n",
      " [[22 24 26 28 30]\n",
      " [32 34 36 38 40]\n",
      " [42 44 46 48 50]\n",
      " [52 54 56 58 60]]\n"
     ]
    }
   ],
   "source": [
    "a = np.arange(1, 21).reshape(4, 5)\n",
    "b = np.arange(21, 41).reshape(4, 5)\n",
    "\n",
    "addition_of_a_b = np.add(a, b)\n",
    "print(f\"Addition of \\n{a} + \\n\\n{b} = \\n\\n\", addition_of_a_b)\n"
   ]
  },
  {
   "cell_type": "code",
   "execution_count": 100,
   "id": "e6efbe15",
   "metadata": {},
   "outputs": [
    {
     "name": "stdout",
     "output_type": "stream",
     "text": [
      "\n",
      "Subtraction of \n",
      "[[ 1  2  3  4  5]\n",
      " [ 6  7  8  9 10]\n",
      " [11 12 13 14 15]\n",
      " [16 17 18 19 20]] - \n",
      "\n",
      "[[21 22 23 24 25]\n",
      " [26 27 28 29 30]\n",
      " [31 32 33 34 35]\n",
      " [36 37 38 39 40]] = \n",
      "\n",
      " [[-20 -20 -20 -20 -20]\n",
      " [-20 -20 -20 -20 -20]\n",
      " [-20 -20 -20 -20 -20]\n",
      " [-20 -20 -20 -20 -20]]\n"
     ]
    }
   ],
   "source": [
    "subtraction_of_a_b = np.subtract(a, b)\n",
    "print(f\"\\nSubtraction of \\n{a} - \\n\\n{b} = \\n\\n\", subtraction_of_a_b)"
   ]
  },
  {
   "cell_type": "code",
   "execution_count": 102,
   "id": "3c476732",
   "metadata": {},
   "outputs": [
    {
     "name": "stdout",
     "output_type": "stream",
     "text": [
      "\n",
      "Mutliplication of \n",
      "[[ 1  2  3  4  5]\n",
      " [ 6  7  8  9 10]\n",
      " [11 12 13 14 15]\n",
      " [16 17 18 19 20]] * \n",
      "\n",
      "[[21 22 23 24 25]\n",
      " [26 27 28 29 30]\n",
      " [31 32 33 34 35]\n",
      " [36 37 38 39 40]] = \n",
      "\n",
      " [[ 21  44  69  96 125]\n",
      " [156 189 224 261 300]\n",
      " [341 384 429 476 525]\n",
      " [576 629 684 741 800]]\n"
     ]
    }
   ],
   "source": [
    "mutliplication_of_a_b = np.multiply(a, b)\n",
    "print(f\"\\nMutliplication of \\n{a} * \\n\\n{b} = \\n\\n\",  mutliplication_of_a_b)"
   ]
  },
  {
   "cell_type": "code",
   "execution_count": 104,
   "id": "6d340468",
   "metadata": {},
   "outputs": [
    {
     "name": "stdout",
     "output_type": "stream",
     "text": [
      "\n",
      "Division of \n",
      "[[ 1  2  3  4  5]\n",
      " [ 6  7  8  9 10]\n",
      " [11 12 13 14 15]\n",
      " [16 17 18 19 20]] / \n",
      "\n",
      "[[21 22 23 24 25]\n",
      " [26 27 28 29 30]\n",
      " [31 32 33 34 35]\n",
      " [36 37 38 39 40]] = \n",
      "\n",
      " [[ 21  44  69  96 125]\n",
      " [156 189 224 261 300]\n",
      " [341 384 429 476 525]\n",
      " [576 629 684 741 800]]\n"
     ]
    }
   ],
   "source": [
    "division_of_a_b = np.multiply(a, b)\n",
    "print(f\"\\nDivision of \\n{a} / \\n\\n{b} = \\n\\n\",  division_of_a_b)"
   ]
  },
  {
   "cell_type": "code",
   "execution_count": 142,
   "id": "7463a575",
   "metadata": {},
   "outputs": [
    {
     "name": "stdout",
     "output_type": "stream",
     "text": [
      "\n",
      "Dot Product of \n",
      "[[ 1  2  3  4  5]\n",
      " [ 6  7  8  9 10]\n",
      " [11 12 13 14 15]\n",
      " [16 17 18 19 20]] . \n",
      "\n",
      "[[21 22 23 24]\n",
      " [25 26 27 28]\n",
      " [29 30 31 32]\n",
      " [33 34 35 36]\n",
      " [37 38 39 40]] = \n",
      "\n",
      " [[ 475  490  505  520]\n",
      " [1200 1240 1280 1320]\n",
      " [1925 1990 2055 2120]\n",
      " [2650 2740 2830 2920]]\n"
     ]
    }
   ],
   "source": [
    "s = np.arange(1, 21).reshape(4, 5)\n",
    "t = np.arange(21, 41).reshape(5, 4)\n",
    "\n",
    "dot_product_of_s_t = np.dot(s, t)\n",
    "print(f\"\\nDot Product of \\n{s} . \\n\\n{t} = \\n\\n\",  dot_product_of_s_t)"
   ]
  },
  {
   "cell_type": "code",
   "execution_count": 146,
   "id": "0634a1df",
   "metadata": {},
   "outputs": [
    {
     "name": "stdout",
     "output_type": "stream",
     "text": [
      "Largest Element in the Array:  40\n",
      "Smallest Element in the Array:  21\n",
      "Index of Lagrest Element in the Array:  19\n",
      "Index of Smallest Element in the Array:  0\n"
     ]
    }
   ],
   "source": [
    "p = np.arange(21, 41).reshape(5, 4)\n",
    "print(\"Largest Element in the Array: \", p.max())\n",
    "print(\"Smallest Element in the Array: \", p.min())\n",
    "print(\"Index of Lagrest Element in the Array: \", p.argmax())\n",
    "print(\"Index of Smallest Element in the Array: \", p.argmin())"
   ]
  },
  {
   "cell_type": "code",
   "execution_count": null,
   "id": "9fcc9a8d",
   "metadata": {},
   "outputs": [],
   "source": []
  }
 ],
 "metadata": {
  "kernelspec": {
   "display_name": ".venv",
   "language": "python",
   "name": "python3"
  },
  "language_info": {
   "codemirror_mode": {
    "name": "ipython",
    "version": 3
   },
   "file_extension": ".py",
   "mimetype": "text/x-python",
   "name": "python",
   "nbconvert_exporter": "python",
   "pygments_lexer": "ipython3",
   "version": "3.13.3"
  }
 },
 "nbformat": 4,
 "nbformat_minor": 5
}
