{
 "cells": [
  {
   "cell_type": "markdown",
   "id": "f587becb",
   "metadata": {},
   "source": [
    " Create a 1D array of size 5 using:\n",
    " np.empty()\n",
    " np.zeros()\n",
    " np.ones()\n",
    " Compare the outputs.\n"
   ]
  },
  {
   "cell_type": "code",
   "execution_count": 39,
   "id": "364d44e2",
   "metadata": {},
   "outputs": [
    {
     "name": "stdout",
     "output_type": "stream",
     "text": [
      "Empty Array:  [25895968444448860 23925768161198147 32370111954616435     2068546912256\n",
      "                 0]\n",
      "Array of Zero:  [0 0 0 0 0]\n",
      "Array of ones:  [1 1 1 1 1]\n"
     ]
    }
   ],
   "source": [
    "import numpy as np\n",
    "a = np.empty((5), dtype=int)\n",
    "print(\"Empty Array: \", a)\n",
    "\n",
    "b = np.zeros((5), dtype=int)\n",
    "print(\"Array of Zero: \", b)\n",
    "\n",
    "c = np.ones((5), dtype=int)\n",
    "print(\"Array of ones: \", c)\n"
   ]
  },
  {
   "cell_type": "markdown",
   "id": "652858e9",
   "metadata": {},
   "source": [
    "Create a 2D array (3×3) with np.empty(). What do you notice about the values?\n"
   ]
  },
  {
   "cell_type": "code",
   "execution_count": 41,
   "id": "eb0b623d",
   "metadata": {},
   "outputs": [
    {
     "name": "stdout",
     "output_type": "stream",
     "text": [
      "2D Array using empty:  [[0 0 0]\n",
      " [0 0 0]\n",
      " [0 0 0]]\n"
     ]
    }
   ],
   "source": [
    "arr_2d = np.empty((3, 3), dtype=int)\n",
    "print(\"2D Array using empty: \", arr_2d)"
   ]
  },
  {
   "cell_type": "markdown",
   "id": "d244e05f",
   "metadata": {},
   "source": [
    "Create a 2D array (2×4) with np.zeros(dtype=int)."
   ]
  },
  {
   "cell_type": "code",
   "execution_count": 45,
   "id": "77934c2a",
   "metadata": {},
   "outputs": [
    {
     "name": "stdout",
     "output_type": "stream",
     "text": [
      "2D arrays with zeros: \n",
      " [[0 0 0 0]\n",
      " [0 0 0 0]]\n",
      "Dimensions of Array:  2\n"
     ]
    }
   ],
   "source": [
    "arr2d = np.zeros((2, 4), dtype=int)\n",
    "print(\"2D arrays with zeros: \\n\", arr2d)\n",
    "print(\"Dimensions of Array: \", arr2d.ndim)"
   ]
  },
  {
   "cell_type": "markdown",
   "id": "c5766d61",
   "metadata": {},
   "source": [
    "Create a 3D array (2×2×3) filled with ones (np.ones)."
   ]
  },
  {
   "cell_type": "code",
   "execution_count": 49,
   "id": "846bfc32",
   "metadata": {},
   "outputs": [
    {
     "name": "stdout",
     "output_type": "stream",
     "text": [
      "3D Array filled with Ones:  [[[1 1 1]\n",
      "  [1 1 1]]\n",
      "\n",
      " [[1 1 1]\n",
      "  [1 1 1]]]\n",
      "Dimensions of Array:  3\n"
     ]
    }
   ],
   "source": [
    "arr_3d = np.ones((2, 2, 3), dtype=int)\n",
    "print(\"3D Array filled with Ones: \", arr_3d)\n",
    "print(\"Dimensions of Array: \", arr_3d.ndim)"
   ]
  },
  {
   "cell_type": "markdown",
   "id": "3fef7d6e",
   "metadata": {},
   "source": [
    "Create a 2×3 float array using np.empty(), then fill it with 7."
   ]
  },
  {
   "cell_type": "code",
   "execution_count": null,
   "id": "1c0f828a",
   "metadata": {},
   "outputs": [
    {
     "name": "stdout",
     "output_type": "stream",
     "text": [
      "2D Array filled with 7:  [[7. 7. 7.]\n",
      " [7. 7. 7.]]\n"
     ]
    }
   ],
   "source": [
    "ar_2d = np.empty((2, 3), dtype=float)\n",
    "ar_2d.fill(7)\n",
    "print(\"2D Array filled with 7: \", ar_2d)"
   ]
  },
  {
   "cell_type": "markdown",
   "id": "24fb997b",
   "metadata": {},
   "source": [
    "Create a 1D array of 6 elements filled with zeros, then change the middle two elements to 5."
   ]
  },
  {
   "cell_type": "code",
   "execution_count": 61,
   "id": "63c668e4",
   "metadata": {},
   "outputs": [
    {
     "name": "stdout",
     "output_type": "stream",
     "text": [
      "With middle two element 5:  [0 0 5 5 0 0]\n"
     ]
    }
   ],
   "source": [
    "arr_1d = np.zeros(6, dtype=int)\n",
    "arr_1d[2:4] = 5\n",
    "print(\"With middle two element 5: \", arr_1d)\n"
   ]
  },
  {
   "cell_type": "markdown",
   "id": "d1e5f922",
   "metadata": {},
   "source": [
    "Create a 2×2 array using np.ones() and multiply it by 10."
   ]
  },
  {
   "cell_type": "code",
   "execution_count": 64,
   "id": "5849b71d",
   "metadata": {},
   "outputs": [
    {
     "name": "stdout",
     "output_type": "stream",
     "text": [
      "[[10 10]\n",
      " [10 10]]\n"
     ]
    }
   ],
   "source": [
    "array_2d = np.ones((2, 2), dtype=int)\n",
    "new_arr = array_2d * 10\n",
    "print(new_arr)"
   ]
  },
  {
   "cell_type": "markdown",
   "id": "3d462f81",
   "metadata": {},
   "source": [
    " Create a 4×4 empty array and check its dtype. Then create the same with dtype=int."
   ]
  },
  {
   "cell_type": "code",
   "execution_count": 68,
   "id": "d3acb6b8",
   "metadata": {},
   "outputs": [
    {
     "name": "stdout",
     "output_type": "stream",
     "text": [
      "4D Array: \n",
      " [[6.23042070e-307 4.67296746e-307 1.69121096e-306 9.79101761e-307]\n",
      " [8.34441742e-308 1.78022342e-306 6.23058028e-307 9.79107872e-307]\n",
      " [6.89807188e-307 7.56594375e-307 6.23060065e-307 1.78021527e-306]\n",
      " [8.34454050e-308 1.11261027e-306 1.15706896e-306 1.33512173e-306]] \n",
      "Datatype of the array:  float64\n",
      "Changing the dataype of the array:  int64\n"
     ]
    }
   ],
   "source": [
    "arr_4d = np.empty((4, 4))\n",
    "print(\"4D Array: \\n\", arr_4d, \"\\nDatatype of the array: \", arr_4d.dtype)\n",
    "\n",
    "int_arr = arr_4d.astype(int)\n",
    "print(\"Changing the dataype of the array: \", int_arr.dtype)"
   ]
  },
  {
   "cell_type": "markdown",
   "id": "0ae0dc7e",
   "metadata": {},
   "source": [
    "Create a 2×5 array using np.zeros(), then add 1 to every element"
   ]
  },
  {
   "cell_type": "code",
   "execution_count": 71,
   "id": "640dfe28",
   "metadata": {},
   "outputs": [
    {
     "name": "stdout",
     "output_type": "stream",
     "text": [
      "Adding 1 in place of zero in the array: \n",
      " [[1 1 1 1 1]\n",
      " [1 1 1 1 1]]\n"
     ]
    }
   ],
   "source": [
    "arr = np.zeros((2, 5), dtype=int)\n",
    "arr.fill(1)\n",
    "print(\"Adding 1 in place of zero in the array: \\n\", arr)"
   ]
  },
  {
   "cell_type": "markdown",
   "id": "a61d6006",
   "metadata": {},
   "source": [
    "Create an array of shape (3, 2) with np.ones(dtype=bool). What values do you get?"
   ]
  },
  {
   "cell_type": "code",
   "execution_count": 74,
   "id": "f41a7292",
   "metadata": {},
   "outputs": [
    {
     "name": "stdout",
     "output_type": "stream",
     "text": [
      "Array after changing the datatype to boolean: \n",
      " [[ True  True]\n",
      " [ True  True]\n",
      " [ True  True]]\n"
     ]
    }
   ],
   "source": [
    "array = np.ones((3, 2), dtype=bool)\n",
    "print(\"Array after changing the datatype to boolean: \\n\", array)\n"
   ]
  },
  {
   "cell_type": "code",
   "execution_count": null,
   "id": "361b1e15",
   "metadata": {},
   "outputs": [],
   "source": []
  }
 ],
 "metadata": {
  "kernelspec": {
   "display_name": ".venv",
   "language": "python",
   "name": "python3"
  },
  "language_info": {
   "codemirror_mode": {
    "name": "ipython",
    "version": 3
   },
   "file_extension": ".py",
   "mimetype": "text/x-python",
   "name": "python",
   "nbconvert_exporter": "python",
   "pygments_lexer": "ipython3",
   "version": "3.13.3"
  }
 },
 "nbformat": 4,
 "nbformat_minor": 5
}
