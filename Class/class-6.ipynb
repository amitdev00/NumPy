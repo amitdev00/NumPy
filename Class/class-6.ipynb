{
 "cells": [
  {
   "cell_type": "markdown",
   "id": "7676b557",
   "metadata": {},
   "source": [
    "# Random Function"
   ]
  },
  {
   "cell_type": "code",
   "execution_count": 11,
   "id": "5dc8bdae",
   "metadata": {},
   "outputs": [
    {
     "name": "stdout",
     "output_type": "stream",
     "text": [
      "56\n"
     ]
    }
   ],
   "source": [
    "\n",
    "import random \n",
    "import numpy as np\n",
    "a = np.random.randint(1, 100)\n",
    "print(a)"
   ]
  },
  {
   "cell_type": "code",
   "execution_count": 5,
   "id": "19502298",
   "metadata": {},
   "outputs": [
    {
     "name": "stdout",
     "output_type": "stream",
     "text": [
      "0.0013146527452125856\n"
     ]
    }
   ],
   "source": [
    "a = np.random.rand()\n",
    "print(a)"
   ]
  },
  {
   "cell_type": "code",
   "execution_count": 7,
   "id": "769d8cae",
   "metadata": {},
   "outputs": [
    {
     "name": "stdout",
     "output_type": "stream",
     "text": [
      "[[0.95630951 0.58418917]\n",
      " [0.30513318 0.47561331]]\n"
     ]
    }
   ],
   "source": [
    "b = np.random.rand(2,2)\n",
    "print(b)"
   ]
  },
  {
   "cell_type": "code",
   "execution_count": 12,
   "id": "bc3707be",
   "metadata": {},
   "outputs": [
    {
     "name": "stdout",
     "output_type": "stream",
     "text": [
      "[[84.24408209 79.77182682]\n",
      " [38.27568472 78.76881429]]\n"
     ]
    }
   ],
   "source": [
    "c = np.random.uniform(1, 100, (2, 2))\n",
    "print(c)"
   ]
  },
  {
   "cell_type": "code",
   "execution_count": 16,
   "id": "330beb78",
   "metadata": {},
   "outputs": [
    {
     "name": "stdout",
     "output_type": "stream",
     "text": [
      "20\n",
      "[20 20 30]\n",
      "[[20 10]\n",
      " [40 30]]\n"
     ]
    }
   ],
   "source": [
    "a = [10, 20, 30, 40, 50, 60, 70]\n",
    "d = np.random.choice(a)\n",
    "print(d)\n",
    "\n",
    "d = np.random.choice(a, 3)\n",
    "print(d)\n",
    "\n",
    "d = np.random.choice(a, (2, 2))\n",
    "print(d)"
   ]
  },
  {
   "cell_type": "markdown",
   "id": "0931c2bf",
   "metadata": {},
   "source": [
    "# Joining of array(1d)"
   ]
  },
  {
   "cell_type": "code",
   "execution_count": 25,
   "id": "d9273978",
   "metadata": {},
   "outputs": [
    {
     "name": "stdout",
     "output_type": "stream",
     "text": [
      "Concatenate Arrays: \n",
      " [1 2 3 4 5 6]\n",
      "\n",
      " Horizontal Stack: \n",
      " [1 2 3 4 5 6]\n",
      "\n",
      " Vertical Stack: \n",
      " [[1 2 3]\n",
      " [4 5 6]]\n",
      "\n",
      " Stack:  Rows\n",
      " [[1 2 3]\n",
      " [4 5 6]]\n",
      "\n",
      " Stack: Columns\n",
      " [[1 4]\n",
      " [2 5]\n",
      " [3 6]]\n"
     ]
    }
   ],
   "source": [
    "a = np.array([1, 2, 3])\n",
    "b = np.array([4, 5, 6])\n",
    "\n",
    "print(\"Concatenate Arrays: \\n\", np.concatenate((a, b)))\n",
    "print(\"\\n Horizontal Stack: \\n\", np.hstack((a, b)))\n",
    "print(\"\\n Vertical Stack: \\n\", np.vstack((a, b)))\n",
    "print(\"\\n Stack:  Rows\\n\", np.stack((a, b), axis=0))\n",
    "print(\"\\n Stack: Columns\\n\", np.stack((a, b), axis=1))"
   ]
  },
  {
   "cell_type": "code",
   "execution_count": 40,
   "id": "278f83fb",
   "metadata": {},
   "outputs": [
    {
     "name": "stdout",
     "output_type": "stream",
     "text": [
      "[[0.22132193 0.02899934]\n",
      " [0.47597592 0.49411312]]\n",
      "\n",
      "Horizontal Stack: \n",
      " [[0.22132193 0.02899934 0.74507463 0.37862575]\n",
      " [0.47597592 0.49411312 0.59986166 0.86358378]]\n",
      "\n",
      "Vertical Stack: \n",
      " [[0.22132193 0.02899934]\n",
      " [0.47597592 0.49411312]\n",
      " [0.74507463 0.37862575]\n",
      " [0.59986166 0.86358378]]\n",
      "\n",
      " Stack: Rows\n",
      " [[[0.22132193 0.02899934]\n",
      "  [0.47597592 0.49411312]]\n",
      "\n",
      " [[0.74507463 0.37862575]\n",
      "  [0.59986166 0.86358378]]]\n",
      "\n",
      " Stack: Columns\n",
      " [[[0.22132193 0.02899934]\n",
      "  [0.74507463 0.37862575]]\n",
      "\n",
      " [[0.47597592 0.49411312]\n",
      "  [0.59986166 0.86358378]]]\n"
     ]
    }
   ],
   "source": [
    "e = np.random.rand(2, 2)\n",
    "f = np.random.rand(2, 2)\n",
    "print(e)\n",
    "\n",
    "print(\"\\nHorizontal Stack: \\n\", np.hstack((e, f)))\n",
    "print(\"\\nVertical Stack: \\n\",np.vstack((e, f)))\n",
    "print(\"\\n Stack: Rows\\n\", np.stack((e, f), axis=0))\n",
    "print(\"\\n Stack: Columns\\n\", np.stack((e, f), axis=1))"
   ]
  },
  {
   "cell_type": "markdown",
   "id": "cc495c31",
   "metadata": {},
   "source": [
    "# Universal Functions --> unfunc"
   ]
  },
  {
   "cell_type": "code",
   "execution_count": 46,
   "id": "f14e038e",
   "metadata": {},
   "outputs": [
    {
     "name": "stdout",
     "output_type": "stream",
     "text": [
      "Addition: \n",
      " [5 7 9]\n",
      "\n",
      "Subtraction: \n",
      " [-3 -3 -3]\n",
      "\n",
      "Multiply: \n",
      " [ 4 10 18]\n",
      "\n",
      "Division: \n",
      " [0.25 0.4  0.5 ]\n",
      "\n",
      "Floor Division: \n",
      " [1 2 3]\n",
      "\n",
      "Modulus: \n",
      " [0 0 0]\n",
      "\n",
      "Power: \n",
      " [1 4 9]\n"
     ]
    }
   ],
   "source": [
    "a = np.array([1, 2, 3])\n",
    "b = np.array([4, 5, 6])\n",
    "print(\"Addition: \\n\", np.add(a, b))\n",
    "print(\"\\nSubtraction: \\n\", np.subtract(a,  b))\n",
    "print(\"\\nMultiply: \\n\", np.multiply(a,  b))\n",
    "print(\"\\nDivision: \\n\", np.divide(a,  b))\n",
    "print(\"\\nFloor Division: \\n\", np.floor(a,  b))\n",
    "print(\"\\nModulus: \\n\", np.mod(a, b))\n",
    "print(\"\\nPower: \\n\", np.power(a, 2))"
   ]
  },
  {
   "cell_type": "code",
   "execution_count": 48,
   "id": "0b4eb0f0",
   "metadata": {},
   "outputs": [
    {
     "name": "stdout",
     "output_type": "stream",
     "text": [
      "Sin 0:  [0.]\n",
      "\n",
      "Cos 3:   [-0.9899925]\n",
      "\n",
      "Tan 60:  [0.32004039]\n"
     ]
    }
   ],
   "source": [
    "a = np.sin([0])\n",
    "print(\"Sin 0: \", a)\n",
    "b = np.cos([3])\n",
    "print(\"\\nCos 3:  \", b)\n",
    "c = np.tan([60])\n",
    "print(\"\\nTan 60: \", c)"
   ]
  },
  {
   "cell_type": "code",
   "execution_count": 54,
   "id": "41b96dcf",
   "metadata": {},
   "outputs": [
    {
     "name": "stdout",
     "output_type": "stream",
     "text": [
      "Equal:  [ True False]\n",
      "Not Equal:  [False  True]\n",
      "Greater:  [False False]\n",
      "Less:  [False  True]\n",
      "Greater Equal:  [ True False]\n",
      "Less Equal:  [ True  True]\n"
     ]
    }
   ],
   "source": [
    "a = np.equal([1, 2], [1, 3])\n",
    "print(\"Equal: \",a)\n",
    "\n",
    "b = np.not_equal([1, 2], [1, 3])\n",
    "print(\"Not Equal: \",b)\n",
    "\n",
    "c = np.greater([1, 2], [1, 3])\n",
    "print(\"Greater: \", c)\n",
    "\n",
    "d = np.less([1, 2], [1, 3])\n",
    "print(\"Less: \", d)\n",
    "\n",
    "e = np.greater_equal([1, 2], [1, 3])\n",
    "print(\"Greater Equal: \", e)\n",
    "\n",
    "f = np.less_equal([1, 2], [1, 3])\n",
    "print(\"Less Equal: \", f)\n"
   ]
  },
  {
   "cell_type": "markdown",
   "id": "188ce3c0",
   "metadata": {},
   "source": [
    "# Logical Operators"
   ]
  },
  {
   "cell_type": "code",
   "execution_count": 59,
   "id": "d89e430c",
   "metadata": {},
   "outputs": [
    {
     "name": "stdout",
     "output_type": "stream",
     "text": [
      "Logical AND:  [ True False]\n",
      "Logical NOT:  [False  True]\n",
      "Logical OR:  [ True False]\n",
      "Logical XOR:  [False False]\n"
     ]
    }
   ],
   "source": [
    "a = np.logical_and([True, False], [True, False])\n",
    "print(\"Logical AND: \", a)\n",
    "\n",
    "b = np.logical_not([True, False])\n",
    "print(\"Logical NOT: \", b)\n",
    "\n",
    "c = np.logical_or([True, False], [True, False])\n",
    "print(\"Logical OR: \", c)\n",
    "\n",
    "d = np.logical_xor([True, False], [True, False])\n",
    "print(\"Logical XOR: \", d)\n"
   ]
  },
  {
   "cell_type": "markdown",
   "id": "5779942e",
   "metadata": {},
   "source": [
    "# Squareroot"
   ]
  },
  {
   "cell_type": "code",
   "execution_count": 71,
   "id": "5f1a0a38",
   "metadata": {},
   "outputs": [
    {
     "name": "stdout",
     "output_type": "stream",
     "text": [
      "Squareroot [2. 3.]\n",
      "Cube Root [2. 3.]\n",
      "Negative [ 1 -2]\n",
      "Absolute [1 5]\n",
      "Maximum [3 4]\n",
      "Minimum [1 2]\n",
      "Round [1 2 4 7]\n"
     ]
    }
   ],
   "source": [
    "a = np.sqrt([4, 9])\n",
    "print(\"Squareroot\", a)\n",
    "\n",
    "b = np.cbrt([8, 27])\n",
    "print(\"Cube Root\", b)\n",
    "\n",
    "c = np.negative([-1, 2])\n",
    "print(\"Negative\", c)\n",
    "\n",
    "d = np.abs([-1, -5])\n",
    "print(\"Absolute\", d)\n",
    "\n",
    "e = np.maximum([1, 2],[3,4])\n",
    "print(\"Maximum\", e)\n",
    "\n",
    "f = np.minimum([4, 9],[1,2])\n",
    "print(\"Minimum\", f)\n",
    "\n",
    "g = np.round([1, 2, 4, 7])\n",
    "print(\"Round\", g)\n"
   ]
  },
  {
   "cell_type": "code",
   "execution_count": null,
   "id": "bf7170da",
   "metadata": {},
   "outputs": [],
   "source": []
  }
 ],
 "metadata": {
  "kernelspec": {
   "display_name": ".venv",
   "language": "python",
   "name": "python3"
  },
  "language_info": {
   "codemirror_mode": {
    "name": "ipython",
    "version": 3
   },
   "file_extension": ".py",
   "mimetype": "text/x-python",
   "name": "python",
   "nbconvert_exporter": "python",
   "pygments_lexer": "ipython3",
   "version": "3.13.3"
  }
 },
 "nbformat": 4,
 "nbformat_minor": 5
}
