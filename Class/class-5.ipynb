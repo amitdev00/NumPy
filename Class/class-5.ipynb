{
 "cells": [
  {
   "cell_type": "code",
   "execution_count": 57,
   "id": "6fe7819b",
   "metadata": {},
   "outputs": [],
   "source": [
    "import numpy as np"
   ]
  },
  {
   "cell_type": "markdown",
   "id": "913f055d",
   "metadata": {},
   "source": [
    "# linespace and broadcasting"
   ]
  },
  {
   "cell_type": "markdown",
   "id": "e1b4d427",
   "metadata": {},
   "source": [
    "# Linspace"
   ]
  },
  {
   "cell_type": "code",
   "execution_count": 58,
   "id": "e6320e68",
   "metadata": {},
   "outputs": [
    {
     "name": "stdout",
     "output_type": "stream",
     "text": [
      "(array([0. , 0.2, 0.4, 0.6, 0.8, 1. , 1.2, 1.4, 1.6, 1.8]), np.float64(0.2))\n"
     ]
    }
   ],
   "source": [
    "a = np.linspace(0, 2, 10, retstep=True, endpoint=False)\n",
    "print(a)"
   ]
  },
  {
   "cell_type": "code",
   "execution_count": 59,
   "id": "2ee87077",
   "metadata": {},
   "outputs": [
    {
     "name": "stdout",
     "output_type": "stream",
     "text": [
      "2 X 2 Identity Matrix: \n",
      " [[1 0]\n",
      " [0 1]]\n",
      "\n",
      "3 X 3 Identity Matrix: \n",
      " [[1 0 0]\n",
      " [0 1 0]\n",
      " [0 0 1]]\n"
     ]
    }
   ],
   "source": [
    "b = np.eye(2, dtype=int)\n",
    "print(\"2 X 2 Identity Matrix: \\n\", b)\n",
    "\n",
    "c = np.identity(3, dtype=int)\n",
    "print(\"\\n3 X 3 Identity Matrix: \\n\", c)"
   ]
  },
  {
   "cell_type": "code",
   "execution_count": 60,
   "id": "91344181",
   "metadata": {},
   "outputs": [
    {
     "name": "stdout",
     "output_type": "stream",
     "text": [
      "Diagonal Matrix: \n",
      " [[2 0 0]\n",
      " [0 3 0]\n",
      " [0 0 2]]\n"
     ]
    }
   ],
   "source": [
    "d = np.diag([2, 3, 2])\n",
    "print(\"Diagonal Matrix: \\n\", d)"
   ]
  },
  {
   "cell_type": "code",
   "execution_count": 61,
   "id": "bd763ff9",
   "metadata": {},
   "outputs": [
    {
     "name": "stdout",
     "output_type": "stream",
     "text": [
      "Diagonal Matrix : \n",
      " [[1 0 0 0]\n",
      " [0 2 0 0]\n",
      " [0 0 3 0]\n",
      " [0 0 0 4]]\n"
     ]
    }
   ],
   "source": [
    "e = np.diag((1, 2, 3, 4))\n",
    "print(\"Diagonal Matrix : \\n\", e)"
   ]
  },
  {
   "cell_type": "markdown",
   "id": "84ab628e",
   "metadata": {},
   "source": [
    "# Broadcasting describes how numpy treats array with differnt shapes during arithmatic operations.\n",
    "# It starts with trailing the right most dimensions and works its way left.\n",
    "# Two dimensions are compatible when they are equal or one of them is one."
   ]
  },
  {
   "cell_type": "code",
   "execution_count": 62,
   "id": "e80be748",
   "metadata": {},
   "outputs": [
    {
     "name": "stdout",
     "output_type": "stream",
     "text": [
      "Addition:  [15 25]\n"
     ]
    }
   ],
   "source": [
    "a = np.array([10, 20])\n",
    "b = np.array([5])\n",
    "\n",
    "addition_of_array = a + b \n",
    "print(\"Addition: \", addition_of_array)"
   ]
  },
  {
   "cell_type": "code",
   "execution_count": 63,
   "id": "f6773dd1",
   "metadata": {},
   "outputs": [
    {
     "ename": "ValueError",
     "evalue": "operands could not be broadcast together with shapes (3,2) (4,1) ",
     "output_type": "error",
     "traceback": [
      "\u001b[31m---------------------------------------------------------------------------\u001b[39m",
      "\u001b[31mValueError\u001b[39m                                Traceback (most recent call last)",
      "\u001b[36mCell\u001b[39m\u001b[36m \u001b[39m\u001b[32mIn[63]\u001b[39m\u001b[32m, line 5\u001b[39m\n\u001b[32m      2\u001b[39m c = np.ones((\u001b[32m3\u001b[39m, \u001b[32m2\u001b[39m))\n\u001b[32m      3\u001b[39m d = np.ones((\u001b[32m4\u001b[39m, \u001b[32m1\u001b[39m))\n\u001b[32m----> \u001b[39m\u001b[32m5\u001b[39m addition = \u001b[43mc\u001b[49m\u001b[43m \u001b[49m\u001b[43m+\u001b[49m\u001b[43m \u001b[49m\u001b[43md\u001b[49m\n\u001b[32m      6\u001b[39m \u001b[38;5;28mprint\u001b[39m(addition)\n",
      "\u001b[31mValueError\u001b[39m: operands could not be broadcast together with shapes (3,2) (4,1) "
     ]
    }
   ],
   "source": [
    "# Additon not possible in this case\n",
    "c = np.ones((3, 2))\n",
    "d = np.ones((4, 1))\n",
    "\n",
    "addition = c + d\n",
    "print(addition)"
   ]
  },
  {
   "cell_type": "code",
   "execution_count": null,
   "id": "c57c229d",
   "metadata": {},
   "outputs": [],
   "source": [
    "e = np.full((2, 5, 2), 3, dtype=int)\n",
    "f = np.ones((1, 5, 1), dtype=int)\n",
    "\n",
    "addition = e + f\n",
    "print(addition)"
   ]
  },
  {
   "cell_type": "markdown",
   "id": "90885138",
   "metadata": {},
   "source": [
    "# Masking\n",
    "# It means using a boolean condition to filter or select elements from an array"
   ]
  },
  {
   "cell_type": "code",
   "execution_count": null,
   "id": "cf942c35",
   "metadata": {},
   "outputs": [
    {
     "name": "stdout",
     "output_type": "stream",
     "text": [
      "[False False False False  True  True]\n",
      "[-1 -1 -1 -1 -1 -1]\n"
     ]
    }
   ],
   "source": [
    "a = np.array([1, 2, 3, 4, 5, 6])\n",
    "b = a > 4\n",
    "print(b)\n",
    "print(a)"
   ]
  },
  {
   "cell_type": "code",
   "execution_count": 116,
   "id": "c7920b72",
   "metadata": {},
   "outputs": [
    {
     "name": "stdout",
     "output_type": "stream",
     "text": [
      "[ 1  2  3  4 -1 -1]\n",
      "[3 4]\n"
     ]
    }
   ],
   "source": [
    "a = np.array([1, 2, 3, 4, 5, 6])\n",
    "b = a > 4\n",
    "\n",
    "a[a > 4] = -1\n",
    "print(a)\n",
    "\n",
    "filter_elements = (a > 2)  & (a < 5)\n",
    "print(a[filter_elements])\n",
    "\n"
   ]
  }
 ],
 "metadata": {
  "kernelspec": {
   "display_name": ".venv",
   "language": "python",
   "name": "python3"
  },
  "language_info": {
   "codemirror_mode": {
    "name": "ipython",
    "version": 3
   },
   "file_extension": ".py",
   "mimetype": "text/x-python",
   "name": "python",
   "nbconvert_exporter": "python",
   "pygments_lexer": "ipython3",
   "version": "3.13.3"
  }
 },
 "nbformat": 4,
 "nbformat_minor": 5
}
