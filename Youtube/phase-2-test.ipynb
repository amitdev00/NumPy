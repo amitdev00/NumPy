{
 "cells": [
  {
   "cell_type": "markdown",
   "id": "cf013099",
   "metadata": {},
   "source": [
    "NumPy Practice Questions"
   ]
  },
  {
   "cell_type": "markdown",
   "id": "64ef4394",
   "metadata": {},
   "source": [
    "Create a NumPy array with values from 1 to 50."
   ]
  },
  {
   "cell_type": "code",
   "execution_count": 12,
   "id": "a7634f9b",
   "metadata": {},
   "outputs": [
    {
     "name": "stdout",
     "output_type": "stream",
     "text": [
      "Array from 1 to 50 is: \n",
      " [ 1  2  3  4  5  6  7  8  9 10 11 12 13 14 15 16 17 18 19 20 21 22 23 24\n",
      " 25 26 27 28 29 30 31 32 33 34 35 36 37 38 39 40 41 42 43 44 45 46 47 48\n",
      " 49 50]\n"
     ]
    }
   ],
   "source": [
    "import numpy as np\n",
    "a = np.arange(1, 51)\n",
    "print(\"Array from 1 to 50 is: \\n\", a)"
   ]
  },
  {
   "cell_type": "markdown",
   "id": "c352b35c",
   "metadata": {},
   "source": [
    "Create a 3×3 matrix filled with all 5’s."
   ]
  },
  {
   "cell_type": "code",
   "execution_count": 17,
   "id": "7b07a0bd",
   "metadata": {},
   "outputs": [
    {
     "name": "stdout",
     "output_type": "stream",
     "text": [
      "3 X 3 matrix filled \n",
      " [[5 5 5]\n",
      " [5 5 5]\n",
      " [5 5 5]]\n"
     ]
    }
   ],
   "source": [
    "b = np.full((3,3), 5)\n",
    "print(\"3 X 3 matrix filled \\n\", b)"
   ]
  },
  {
   "cell_type": "markdown",
   "id": "90804414",
   "metadata": {},
   "source": [
    "Create a NumPy array of even numbers between 10 and 30."
   ]
  },
  {
   "cell_type": "code",
   "execution_count": 22,
   "id": "68a43d84",
   "metadata": {},
   "outputs": [
    {
     "name": "stdout",
     "output_type": "stream",
     "text": [
      " [10 12 14 16 18 20 22 24 26 28 30]\n"
     ]
    }
   ],
   "source": [
    "c = np.arange(10, 31, 2)\n",
    "print(\"\", c)"
   ]
  },
  {
   "cell_type": "markdown",
   "id": "5db34eb6",
   "metadata": {},
   "source": [
    "Generate an array of 20 random integers between 1 and 100."
   ]
  },
  {
   "cell_type": "code",
   "execution_count": 29,
   "id": "31fe9196",
   "metadata": {},
   "outputs": [
    {
     "name": "stdout",
     "output_type": "stream",
     "text": [
      "[65 47 42 36 92 75 36 54 11 86 99 67 25 14 86 79 32 38 51 56]\n"
     ]
    }
   ],
   "source": [
    "d = np.random.randint(1, 101 ,20)\n",
    "print(d)"
   ]
  },
  {
   "cell_type": "markdown",
   "id": "c5de620d",
   "metadata": {},
   "source": [
    "Create a 4×4 identity matrix."
   ]
  },
  {
   "cell_type": "code",
   "execution_count": 31,
   "id": "f2c06770",
   "metadata": {},
   "outputs": [
    {
     "name": "stdout",
     "output_type": "stream",
     "text": [
      "[[1. 0. 0. 0.]\n",
      " [0. 1. 0. 0.]\n",
      " [0. 0. 1. 0.]\n",
      " [0. 0. 0. 1.]]\n"
     ]
    }
   ],
   "source": [
    "e = np.eye(4, 4)\n",
    "print(e)"
   ]
  },
  {
   "cell_type": "markdown",
   "id": "a0a9e6ba",
   "metadata": {},
   "source": [
    "Create an array of shape (2,3) filled with random floats between 0 and 1."
   ]
  },
  {
   "cell_type": "code",
   "execution_count": 1,
   "id": "9f573a2b",
   "metadata": {},
   "outputs": [
    {
     "name": "stdout",
     "output_type": "stream",
     "text": [
      "[[0.84469187 0.52801352 0.65717773]\n",
      " [0.29433075 0.87235633 0.47325075]]\n"
     ]
    }
   ],
   "source": [
    "import numpy as np\n",
    "f = np.random.rand(2,3)\n",
    "print(f)"
   ]
  },
  {
   "cell_type": "markdown",
   "id": "fedb931f",
   "metadata": {},
   "source": [
    "Reshape np.arange(1, 25) into a 4×6 matrix."
   ]
  },
  {
   "cell_type": "code",
   "execution_count": 3,
   "id": "5494d1a7",
   "metadata": {},
   "outputs": [
    {
     "name": "stdout",
     "output_type": "stream",
     "text": [
      "[[ 1  2  3  4  5  6]\n",
      " [ 7  8  9 10 11 12]\n",
      " [13 14 15 16 17 18]\n",
      " [19 20 21 22 23 24]]\n"
     ]
    }
   ],
   "source": [
    "import numpy as np\n",
    "g = np.arange(1, 25)\n",
    "reshaped_g= g.reshape(4, 6)\n",
    "print(reshaped_g)"
   ]
  },
  {
   "cell_type": "markdown",
   "id": "bba78ed5",
   "metadata": {},
   "source": [
    "From arr = np.arange(1, 26).reshape(5, 5):\n",
    "Select the first row\n",
    "Select the last column\n",
    "Select the middle 3×3 submatrix"
   ]
  },
  {
   "cell_type": "code",
   "execution_count": 22,
   "id": "190b18cf",
   "metadata": {},
   "outputs": [
    {
     "name": "stdout",
     "output_type": "stream",
     "text": [
      "[[ 1  2  3  4  5]\n",
      " [ 6  7  8  9 10]\n",
      " [11 12 13 14 15]\n",
      " [16 17 18 19 20]\n",
      " [21 22 23 24 25]]\n",
      "First Row:  [1 2 3 4 5]\n",
      "Last Column:  [ 5 10 15 20 25]\n",
      "Middle 3 x 3 matrix:  [[ 7  8  9]\n",
      " [12 13 14]\n",
      " [17 18 19]]\n"
     ]
    }
   ],
   "source": [
    "arr = np.arange(1, 26).reshape(5, 5)\n",
    "print(arr)\n",
    "print(\"First Row: \",arr[0])\n",
    "print(\"Last Column: \", arr[:, -1])\n",
    "print(\"Middle 3 x 3 matrix: \",arr[1:4, 1:4])"
   ]
  },
  {
   "cell_type": "markdown",
   "id": "eb700ff0",
   "metadata": {},
   "source": [
    "Given arr = np.array([2, 4, 6, 8, 10, 12, 14]), select:\n",
    "Numbers greater than 8\n",
    "Every alternate element\n",
    "Reverse the array"
   ]
  },
  {
   "cell_type": "code",
   "execution_count": null,
   "id": "8a25f44f",
   "metadata": {},
   "outputs": [
    {
     "name": "stdout",
     "output_type": "stream",
     "text": [
      "Numbers greater than 8 [10 12 14]\n",
      "Every alternate element [ 2  6 10 14]\n",
      "Reverse the array [14 12 10  8  6  4  2]\n"
     ]
    }
   ],
   "source": [
    "arr = np.array([2, 4, 6, 8, 10, 12, 14])\n",
    "numbers_greater_than_8 = np.where(arr > 8)\n",
    "print(\"Numbers greater than 8\", arr[numbers_greater_than_8])\n",
    "print(\"Every alternate element\", arr[::2])\n",
    "print(\"Reverse the array\", arr[::-1])\n"
   ]
  },
  {
   "cell_type": "markdown",
   "id": "4a65687b",
   "metadata": {},
   "source": [
    "Extract only diagonal elements from this 4×4 matrix:\n",
    "arr = np.array([[1, 2, 3, 4],\n",
    "                [5, 6, 7, 8],\n",
    "                [9,10,11,12],\n",
    "                [13,14,15,16]])"
   ]
  },
  {
   "cell_type": "code",
   "execution_count": 5,
   "id": "17fde9f5",
   "metadata": {},
   "outputs": [
    {
     "name": "stdout",
     "output_type": "stream",
     "text": [
      "(0, 0) 1\n",
      "(1, 1) 6\n",
      "(2, 2) 11\n",
      "(3, 3) 16\n"
     ]
    }
   ],
   "source": [
    "import numpy as np\n",
    "arr = np.array([[1, 2, 3, 4],\n",
    "                [5, 6, 7, 8],\n",
    "                [9, 10, 11, 12],\n",
    "                [13, 14, 15, 16]])\n",
    "for i, j in np.ndenumerate(arr):\n",
    "    if i[0] == i[1]:\n",
    "        print(i,j)"
   ]
  },
  {
   "cell_type": "markdown",
   "id": "1d7eeaf6",
   "metadata": {},
   "source": [
    "Given arr = np.array([5, 3, 9, 1, 10, 6]):\n",
    "\n",
    "Sort the array in ascending order\n",
    "\n",
    "Sort the array in descending order"
   ]
  },
  {
   "cell_type": "code",
   "execution_count": 29,
   "id": "5e22b761",
   "metadata": {},
   "outputs": [
    {
     "name": "stdout",
     "output_type": "stream",
     "text": [
      "Sorting in Ascending Order:  [ 1  3  5  6  9 10]\n",
      "Sorting in Descending Order:  [10  9  6  5  3  1]\n"
     ]
    }
   ],
   "source": [
    "arr = np.array([5, 3, 9, 1, 10, 6])\n",
    "print(\"Sorting in Ascending Order: \", np.sort(arr))\n",
    "print(\"Sorting in Descending Order: \", np.sort(arr)[::-1])"
   ]
  },
  {
   "cell_type": "markdown",
   "id": "7d2508bb",
   "metadata": {},
   "source": [
    "From the 2D array:\n",
    "\n",
    "arr = np.array([[10, 2, 30],\n",
    "                [5, 25, 15]])\n",
    "\n",
    "\n",
    "Sort each row individually\n",
    "\n",
    "Sort each column individually"
   ]
  },
  {
   "cell_type": "code",
   "execution_count": null,
   "id": "18891564",
   "metadata": {},
   "outputs": [],
   "source": [
    "arr = np.array([[10, 2, 30], [5, 25, 15]])"
   ]
  }
 ],
 "metadata": {
  "kernelspec": {
   "display_name": ".venv",
   "language": "python",
   "name": "python3"
  },
  "language_info": {
   "codemirror_mode": {
    "name": "ipython",
    "version": 3
   },
   "file_extension": ".py",
   "mimetype": "text/x-python",
   "name": "python",
   "nbconvert_exporter": "python",
   "pygments_lexer": "ipython3",
   "version": "3.13.3"
  }
 },
 "nbformat": 4,
 "nbformat_minor": 5
}
