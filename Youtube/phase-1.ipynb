{
 "cells": [
  {
   "cell_type": "markdown",
   "id": "7a513243",
   "metadata": {
    "vscode": {
     "languageId": "plaintext"
    }
   },
   "source": [
    "## Numpy array and basics \n",
    "learn about numpy with amit"
   ]
  },
  {
   "cell_type": "code",
   "execution_count": 1,
   "id": "0d99141d",
   "metadata": {},
   "outputs": [],
   "source": [
    "import numpy as np"
   ]
  },
  {
   "cell_type": "markdown",
   "id": "41ecb0af",
   "metadata": {},
   "source": [
    "##creating array list"
   ]
  },
  {
   "cell_type": "code",
   "execution_count": 24,
   "id": "a5543390",
   "metadata": {},
   "outputs": [
    {
     "name": "stdout",
     "output_type": "stream",
     "text": [
      "1D Array:  [1 2 3 4 5]\n",
      "2D Array:  [[1 2 3 4 5]\n",
      " [6 7 8 9 0]]\n",
      "3D Array:  [[[1 2 3]]]\n",
      "Multidimensional Array:  [[[1 2]\n",
      "  [3 4]]\n",
      "\n",
      " [[5 6]\n",
      "  [7 8]]]\n",
      "Shape of Multidimensional Array:  (2, 2, 2)\n"
     ]
    }
   ],
   "source": [
    "arr_1d = np.array([1, 2, 3, 4, 5])\n",
    "print(\"1D Array: \", arr_1d)\n",
    "\n",
    "arr_2d = np.array([[1, 2, 3, 4, 5],[6, 7, 8, 9, 0]])\n",
    "print(\"2D Array: \", arr_2d)\n",
    "\n",
    "arr_3d = np.array([[[1, 2, 3]]])\n",
    "print(\"3D Array: \", arr_3d)\n",
    "\n",
    "arr_multi = np.array([[[1, 2], [3, 4]], [[5, 6], [7, 8]]])\n",
    "print(\"Multidimensional Array: \", arr_multi)\n",
    "print(\"Shape of Multidimensional Array: \", arr_multi.shape)"
   ]
  },
  {
   "cell_type": "markdown",
   "id": "fef23eb9",
   "metadata": {},
   "source": [
    "### List vs numpy array"
   ]
  },
  {
   "cell_type": "code",
   "execution_count": 7,
   "id": "65b055bd",
   "metadata": {},
   "outputs": [
    {
     "name": "stdout",
     "output_type": "stream",
     "text": [
      "Python List Multiplication:  [1, 2, 3, 1, 2, 3]\n",
      "Python Array Multiplication:  [2 4 6]\n",
      "\n",
      " List Operation Time:  0.00566411018371582\n",
      "\n",
      " NumPy Operation Time:  0.0014634132385253906\n"
     ]
    }
   ],
   "source": [
    "py_list = [1, 2, 3]\n",
    "print(\"Python List Multiplication: \", py_list * 2)\n",
    "\n",
    "np_array = np.array([1, 2, 3])\n",
    "\n",
    "print(\"Python Array Multiplication: \", np_array * 2)\n",
    "\n",
    "import time\n",
    "start = time.time()\n",
    "py_list = [i * 2 for i in range(100000)]\n",
    "print(\"\\n List Operation Time: \", time.time() - start)\n",
    "\n",
    "start = time.time()\n",
    "np_array = np.arange(100000) * 2\n",
    "print(\"\\n NumPy Operation Time: \", time.time() - start)"
   ]
  },
  {
   "cell_type": "markdown",
   "id": "9f67a1fb",
   "metadata": {},
   "source": [
    "###creating array from scratch"
   ]
  },
  {
   "cell_type": "code",
   "execution_count": null,
   "id": "cae7be3d",
   "metadata": {},
   "outputs": [
    {
     "name": "stdout",
     "output_type": "stream",
     "text": [
      "Zeros array: \n",
      " [[0. 0. 0. 0.]\n",
      " [0. 0. 0. 0.]\n",
      " [0. 0. 0. 0.]]\n",
      "Ones array: \n",
      " [[1. 1. 1.]\n",
      " [1. 1. 1.]]\n",
      "Full Array: \n",
      " [[7 7]\n",
      " [7 7]]\n",
      "Random Array: \n",
      " [[0.62603623 0.4870872  0.95195289]\n",
      " [0.245589   0.25863629 0.47894807]]\n",
      "Sequence Array: \n",
      " [0 2 4 6 8]\n"
     ]
    }
   ],
   "source": [
    "zeros = np.zeros((3, 4))\n",
    "print(\"Zeros array: \\n\", zeros)\n",
    "\n",
    "ones = np.ones((2, 3))\n",
    "print(\"Ones array: \\n\", ones)\n",
    "\n",
    "full = np.full((2, 2), 7)\n",
    "print(\"Full Array: \\n\", full)\n",
    "\n",
    "random = np.random.random((2, 3))\n",
    "print(\"Random Array: \\n\", random)\n",
    "\n",
    "sequence = np.arange(0, 10, 2)\n",
    "print(\"Sequence Array: \\n\", sequence)\n",
    "\n"
   ]
  },
  {
   "cell_type": "markdown",
   "id": "786060bd",
   "metadata": {},
   "source": []
  },
  {
   "cell_type": "markdown",
   "id": "f413d6a3",
   "metadata": {},
   "source": [
    "###Vector, Matrix and Tensor"
   ]
  },
  {
   "cell_type": "code",
   "execution_count": 3,
   "id": "a858dd7d",
   "metadata": {},
   "outputs": [
    {
     "name": "stdout",
     "output_type": "stream",
     "text": [
      "Vector:  [1 2 3]\n"
     ]
    }
   ],
   "source": [
    "import numpy as np\n",
    "vector = np.array([1, 2, 3])\n",
    "print(\"Vector: \", vector)"
   ]
  },
  {
   "cell_type": "code",
   "execution_count": 4,
   "id": "08631e53",
   "metadata": {},
   "outputs": [
    {
     "name": "stdout",
     "output_type": "stream",
     "text": [
      "Matrix:  [[1 2 3]\n",
      " [4 5 6]]\n"
     ]
    }
   ],
   "source": [
    "matrix = np.array([[1, 2, 3],\n",
    "                   [4, 5, 6]])\n",
    "print(\"Matrix: \", matrix)"
   ]
  },
  {
   "cell_type": "code",
   "execution_count": 6,
   "id": "41f28412",
   "metadata": {},
   "outputs": [
    {
     "name": "stdout",
     "output_type": "stream",
     "text": [
      "Tensor:  [[[1 2]\n",
      "  [3 4]\n",
      "  [5 6]\n",
      "  [7 8]]]\n"
     ]
    }
   ],
   "source": [
    "tensor = np.array([[[1, 2], [3, 4], \n",
    "                    [5, 6], [7, 8]]])\n",
    "print(\"Tensor: \", tensor)"
   ]
  },
  {
   "cell_type": "markdown",
   "id": "9203e752",
   "metadata": {},
   "source": [
    "###Array Properties"
   ]
  },
  {
   "cell_type": "code",
   "execution_count": 8,
   "id": "a62470d6",
   "metadata": {},
   "outputs": [
    {
     "name": "stdout",
     "output_type": "stream",
     "text": [
      "Shape (2, 3)\n",
      "Dimensions:  2\n",
      "Size:  6\n",
      "Datatype:  int64\n"
     ]
    }
   ],
   "source": [
    "arr = np.array([[1, 2, 3],\n",
    "                [4, 5, 6]])\n",
    "print(\"Shape\", arr.shape)\n",
    "print(\"Dimensions: \", arr.ndim)\n",
    "print(\"Size: \", arr.size)\n",
    "print(\"Datatype: \", arr.dtype)"
   ]
  },
  {
   "cell_type": "markdown",
   "id": "b4f8a34f",
   "metadata": {},
   "source": [
    "###Array Reshaping"
   ]
  },
  {
   "cell_type": "code",
   "execution_count": 13,
   "id": "8de33971",
   "metadata": {},
   "outputs": [
    {
     "name": "stdout",
     "output_type": "stream",
     "text": [
      "Original Array:  [ 0  1  2  3  4  5  6  7  8  9 10 11]\n",
      "\n",
      " Reshaped Array:  [[ 0  1  2  3]\n",
      " [ 4  5  6  7]\n",
      " [ 8  9 10 11]]\n",
      "\n",
      " Flattened Array:  [ 0  1  2  3  4  5  6  7  8  9 10 11]\n",
      "\n",
      " Raveled Array [ 0  1  2  3  4  5  6  7  8  9 10 11]\n"
     ]
    }
   ],
   "source": [
    "arr = np.arange(12)\n",
    "print(\"Original Array: \", arr)\n",
    "\n",
    "reshaped = arr.reshape(3, 4)\n",
    "print(\"\\n Reshaped Array: \", reshaped)\n",
    "\n",
    "flattened = reshaped.flatten()\n",
    "print(\"\\n Flattened Array: \", flattened)\n",
    "\n",
    "###ravels (returns view, instead of copy)\n",
    "raveled = reshaped.ravel()\n",
    "print(\"\\n Raveled Array\", raveled)"
   ]
  },
  {
   "cell_type": "markdown",
   "id": "2b09539e",
   "metadata": {},
   "source": [
    "###Transpose"
   ]
  },
  {
   "cell_type": "code",
   "execution_count": 16,
   "id": "34304da9",
   "metadata": {},
   "outputs": [
    {
     "name": "stdout",
     "output_type": "stream",
     "text": [
      "\n",
      " Transposed Array [[ 0  4  8]\n",
      " [ 1  5  9]\n",
      " [ 2  6 10]\n",
      " [ 3  7 11]]\n"
     ]
    }
   ],
   "source": [
    "transpose = reshaped.T\n",
    "print(\"\\n Transposed Array\", transpose)"
   ]
  }
 ],
 "metadata": {
  "kernelspec": {
   "display_name": ".venv",
   "language": "python",
   "name": "python3"
  },
  "language_info": {
   "codemirror_mode": {
    "name": "ipython",
    "version": 3
   },
   "file_extension": ".py",
   "mimetype": "text/x-python",
   "name": "python",
   "nbconvert_exporter": "python",
   "pygments_lexer": "ipython3",
   "version": "3.13.3"
  }
 },
 "nbformat": 4,
 "nbformat_minor": 5
}
