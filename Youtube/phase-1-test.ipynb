{
 "cells": [
  {
   "cell_type": "code",
   "execution_count": 2,
   "id": "6117de53",
   "metadata": {},
   "outputs": [],
   "source": [
    "import numpy as np"
   ]
  },
  {
   "cell_type": "code",
   "execution_count": 8,
   "id": "6a0b4177",
   "metadata": {},
   "outputs": [
    {
     "name": "stdout",
     "output_type": "stream",
     "text": [
      "[ 5  6  7  8  9 10 11 12 13 14 15]\n",
      "[ 5  6  7  8  9 10 11 12 13 14 15]\n"
     ]
    }
   ],
   "source": [
    "#How do you create a 1D NumPy array containing numbers from 5 to 15?\n",
    "\n",
    "arr_1d = np.array([5, 6, 7, 8, 9, 10, 11, 12, 13, 14, 15])\n",
    "print(arr_1d)\n",
    "\n",
    "arr_1d = np.arange(5, 16)\n",
    "print(arr_1d)"
   ]
  },
  {
   "cell_type": "code",
   "execution_count": 9,
   "id": "c46f34c1",
   "metadata": {},
   "outputs": [
    {
     "name": "stdout",
     "output_type": "stream",
     "text": [
      "Shape of the array is:  (2, 3)\n"
     ]
    }
   ],
   "source": [
    "#What will be the shape of this array?\n",
    "\n",
    "arr = np.array([[1, 2, 3], [4, 5, 6]])\n",
    "print(\"Shape of the array is: \", arr.shape)"
   ]
  },
  {
   "cell_type": "code",
   "execution_count": 14,
   "id": "2b5fb8df",
   "metadata": {},
   "outputs": [
    {
     "name": "stdout",
     "output_type": "stream",
     "text": [
      "Array filled with ones: \n",
      " [[1. 1. 1. 1.]\n",
      " [1. 1. 1. 1.]\n",
      " [1. 1. 1. 1.]]\n"
     ]
    }
   ],
   "source": [
    "# Write a command to create a 3×4 array filled with ones.\n",
    "\n",
    "array_1s = np.ones((3, 4))\n",
    "print(\"Array filled with ones: \\n\", array_1s)"
   ]
  },
  {
   "cell_type": "code",
   "execution_count": 16,
   "id": "a54b3e23",
   "metadata": {},
   "outputs": [
    {
     "name": "stdout",
     "output_type": "stream",
     "text": [
      "Zeros Array:  [[0. 0. 0. 0. 0.]\n",
      " [0. 0. 0. 0. 0.]]\n"
     ]
    }
   ],
   "source": [
    "#What function will you use to create an array of 10 zeros?\n",
    "\n",
    "array_0s = np.zeros((2, 5))\n",
    "print(\"Zeros Array: \", array_0s)"
   ]
  },
  {
   "cell_type": "code",
   "execution_count": 18,
   "id": "0501440b",
   "metadata": {},
   "outputs": [
    {
     "name": "stdout",
     "output_type": "stream",
     "text": [
      "[[7 7 7 7 7]\n",
      " [7 7 7 7 7]\n",
      " [7 7 7 7 7]\n",
      " [7 7 7 7 7]\n",
      " [7 7 7 7 7]]\n"
     ]
    }
   ],
   "source": [
    "#How do you create a 5×5 array filled with 7?\n",
    "\n",
    "full = np.full((5,5), 7)\n",
    "print(full)"
   ]
  },
  {
   "cell_type": "code",
   "execution_count": 20,
   "id": "dd6b8072",
   "metadata": {},
   "outputs": [
    {
     "name": "stdout",
     "output_type": "stream",
     "text": [
      "[[ 0  1  2  3]\n",
      " [ 4  5  6  7]\n",
      " [ 8  9 10 11]]\n"
     ]
    }
   ],
   "source": [
    "#If you have an array np.arange(12), how would you reshape it into a 3×4 matrix?\n",
    "\n",
    "arr = np.arange(12)\n",
    "\n",
    "reshaped = arr.reshape((3, 4))\n",
    "print(reshaped)"
   ]
  },
  {
   "cell_type": "code",
   "execution_count": 24,
   "id": "702d5c64",
   "metadata": {},
   "outputs": [
    {
     "name": "stdout",
     "output_type": "stream",
     "text": [
      "[ 0  2  4  6  8 10 12 14 16 18 20]\n"
     ]
    }
   ],
   "source": [
    "#Write a command to create an array with numbers from 0 to 20 with step 2.\n",
    "\n",
    "arr = np.arange(0, 21, 2)\n",
    "\n",
    "print(arr)"
   ]
  },
  {
   "cell_type": "code",
   "execution_count": 26,
   "id": "4a526ca9",
   "metadata": {},
   "outputs": [
    {
     "name": "stdout",
     "output_type": "stream",
     "text": [
      "[[5. 5. 5.]\n",
      " [5. 5. 5.]]\n"
     ]
    }
   ],
   "source": [
    "#What is the output of this code?\n",
    "\n",
    "arr = np.ones((2,3))\n",
    "arr = arr * 5\n",
    "print(arr)\n",
    "\n"
   ]
  },
  {
   "cell_type": "code",
   "execution_count": 30,
   "id": "32101dc2",
   "metadata": {},
   "outputs": [
    {
     "name": "stdout",
     "output_type": "stream",
     "text": [
      "[[ 1 10  6]\n",
      " [ 8  8  3]]\n"
     ]
    }
   ],
   "source": [
    "#How would you create an array of shape (2,3) filled with random integers between 1 and 10?\n",
    "arr = np.random.randint(1, 11, size = (2, 3))\n",
    "print(arr)\n",
    "\n",
    "\n"
   ]
  },
  {
   "cell_type": "code",
   "execution_count": null,
   "id": "b86386da",
   "metadata": {},
   "outputs": [
    {
     "name": "stdout",
     "output_type": "stream",
     "text": [
      "0\n",
      "2\n",
      "1\n",
      "2\n",
      "1\n",
      "0\n",
      "1\n"
     ]
    }
   ],
   "source": [
    "string = \"amitamitamitamitmita\"\n",
    "\n",
    "\n",
    "\n",
    "\n",
    "\n",
    "    \n"
   ]
  },
  {
   "cell_type": "code",
   "execution_count": null,
   "id": "074bd5a3",
   "metadata": {},
   "outputs": [],
   "source": [
    "original_list = list\n",
    "sorted_list = []\n",
    "used = [False] * len(original_list)\n",
    "\n",
    "for _ in range(len(original_list)):\n",
    "    min_num = None\n",
    "    min_idx = -1\n",
    "    for idx in range(len(original_list)):\n",
    "        if not used[idx]:\n",
    "            num = original_list[idx]\n",
    "            if min_num is None or num < min_num:\n",
    "                min_num = num\n",
    "                min_idx = idx\n",
    "    sorted_list.append(min_num)\n",
    "    used[min_idx] = True\n",
    "\n",
    "print(\"Sorted list:\", sorted_list)"
   ]
  },
  {
   "cell_type": "code",
   "execution_count": 3,
   "id": "cbd9ee67",
   "metadata": {},
   "outputs": [
    {
     "name": "stdout",
     "output_type": "stream",
     "text": [
      "First Element  10 \n",
      "Last Element  19 \n",
      "Third Element  12\n"
     ]
    }
   ],
   "source": [
    "#Create a 1D array of numbers from 10 to 19. Print the first, last, and third element.\n",
    "import numpy as np\n",
    "arr_1d = np.arange(10, 20)\n",
    "print(\"First Element \", arr_1d[0],\"\\nLast Element \", arr_1d[-1], \"\\nThird Element \", arr_1d[2] )"
   ]
  },
  {
   "cell_type": "code",
   "execution_count": 7,
   "id": "bf446805",
   "metadata": {},
   "outputs": [
    {
     "name": "stdout",
     "output_type": "stream",
     "text": [
      "Array in reverse order [8 7 6 5 4 3 2 1]\n"
     ]
    }
   ],
   "source": [
    "#Print the array in reverse order using slicing.\n",
    "arr = np.array([1, 2, 3, 4, 5, 6, 7, 8])\n",
    "print(\"Array in reverse order\", arr[::-1])"
   ]
  },
  {
   "cell_type": "code",
   "execution_count": 17,
   "id": "57a03e03",
   "metadata": {},
   "outputs": [
    {
     "name": "stdout",
     "output_type": "stream",
     "text": [
      "Elements from index 5 to 10 [ 5  6  7  8  9 10]\n",
      "Every second element from index 2 to 12 [ 2  4  6  8 10 12]\n",
      "Last five elements [15 16 17 18 19]\n"
     ]
    }
   ],
   "source": [
    "#From an array np.arange(20), extract\n",
    "# elements from index 5 to 10\n",
    "# every 2nd element from index 2 to 12\n",
    "# last 5 elements\n",
    "array = np.arange(20)\n",
    "print(\"Elements from index 5 to 10\", array[5:11])\n",
    "print(\"Every second element from index 2 to 12\",array[2:13:2])\n",
    "print(\"Last five elements\", array[-5:])"
   ]
  },
  {
   "cell_type": "code",
   "execution_count": 30,
   "id": "ac531dde",
   "metadata": {},
   "outputs": [
    {
     "name": "stdout",
     "output_type": "stream",
     "text": [
      "Element in 2nd row, 3rd column 60\n",
      "Entire first row [10 20 30]\n",
      "Entire 2nd column [20 50 80]\n"
     ]
    }
   ],
   "source": [
    "#Create a 2D array:\n",
    "arr = np.array([[10, 20, 30],\n",
    "                [40, 50, 60],\n",
    "                [70, 80, 90]])\n",
    "print(\"Element in 2nd row, 3rd column\", arr[1, 2])\n",
    "print(\"Entire first row\", arr[0])\n",
    "print(\"Entire 2nd column\", arr[:, 1])"
   ]
  },
  {
   "cell_type": "code",
   "execution_count": 25,
   "id": "7e7e2ae5",
   "metadata": {},
   "outputs": [
    {
     "name": "stdout",
     "output_type": "stream",
     "text": [
      "The submatrix\n",
      " [[20 30]\n",
      " [50 60]]\n",
      "Last two rows\n",
      " [[40 50 60]\n",
      " [70 80 90]]\n",
      "First two columns\n",
      " [[10 20]\n",
      " [40 50]\n",
      " [70 80]]\n"
     ]
    }
   ],
   "source": [
    "# From the above arr, extract:\n",
    "# The submatrix [[20,30],[50,60]]\n",
    "# The last two rows\n",
    "# The first two columns\n",
    "import numpy as np\n",
    "arr = np.array([[10, 20, 30],\n",
    "                [40, 50, 60],\n",
    "                [70, 80, 90]])\n",
    "print(\"The submatrix\\n\", arr[0:2, 1:3])\n",
    "print(\"Last two rows\\n\", arr[1:])\n",
    "print(\"First two columns\\n\", arr[:, :2 ] )"
   ]
  },
  {
   "cell_type": "code",
   "execution_count": 14,
   "id": "e66ac44a",
   "metadata": {},
   "outputs": [
    {
     "name": "stdout",
     "output_type": "stream",
     "text": [
      "Elements from index 10 to 20 [10 11 12 13 14 15 16 17 18 19 20]\n",
      "Every third element [ 2  4  6  8 10 12 14 16 18 20 22 24 26 28]\n",
      "First 10 elements in reverse order [9 8 7 6 5 4 3 2 1 0]\n"
     ]
    }
   ],
   "source": [
    "# Create an array of numbers 0–29.\n",
    "# Extract elements from index 10 to 20.\n",
    "# Extract every 3rd element from the whole array.\n",
    "# Extract the first 10 elements in reverse order.\n",
    "import numpy as np\n",
    "arr = np.arange(0,30)\n",
    "print(\"Elements from index 10 to 20\", arr[10:21])\n",
    "print(\"Every third element\", arr[2::2])\n",
    "print(\"First 10 elements in reverse order\", arr[9::-1])"
   ]
  },
  {
   "cell_type": "code",
   "execution_count": 17,
   "id": "5757d80c",
   "metadata": {},
   "outputs": [
    {
     "name": "stdout",
     "output_type": "stream",
     "text": [
      "First 2 rows\n",
      " [[ 1  2  3  4]\n",
      " [ 5  6  7  8]\n",
      " [ 9 10 11 12]]\n",
      "Last two columns\n",
      " [[ 3  4]\n",
      " [ 7  8]\n",
      " [11 12]\n",
      " [15 16]]\n"
     ]
    }
   ],
   "source": [
    "# Extract:\n",
    "# First two rows\n",
    "# Last two columns\n",
    "# Middle 2×2 block ([[6,7],[10,11]])\n",
    "# The last row in reverse order\n",
    "arr = np.array([[1, 2, 3, 4],\n",
    "                [5, 6, 7, 8],\n",
    "                [9, 10, 11, 12],\n",
    "                [13, 14, 15, 16]])\n",
    "print(\"First 2 rows\\n\", arr[0:3])\n",
    "print(\"Last two columns\\n\", arr[0:, 2:])"
   ]
  },
  {
   "cell_type": "code",
   "execution_count": 24,
   "id": "535c6ad6",
   "metadata": {},
   "outputs": [
    {
     "name": "stdout",
     "output_type": "stream",
     "text": [
      "[[ 1  2  3  4  5]\n",
      " [ 6  7  8  9 10]\n",
      " [11 12 13 14 15]\n",
      " [16 17 18 19 20]\n",
      " [21 22 23 24 25]]\n",
      "First Column [ 1  6 11 16 21]\n",
      "Last Row [21 22 23 24 25]\n",
      "Elements from 2nd to 4th row and 2nd to 4th column\n",
      " [[ 7  8  9]\n",
      " [12 13 14]\n",
      " [17 18 19]]\n"
     ]
    }
   ],
   "source": [
    "# From np.arange(1, 26).reshape(5, 5) (a 5×5 matrix):\n",
    "# Get the first column.\n",
    "# Get the last row.\n",
    "# Get elements from the 2nd to 4th row \n",
    "# and 2nd to 4th column (a 3×3 submatrix).\n",
    "arr = np.arange(1, 26).reshape(5, 5)\n",
    "print(arr)\n",
    "print(\"First Column\", arr[0:, 0])\n",
    "print(\"Last Row\", arr[-1])\n",
    "print(\"Elements from 2nd to 4th row and 2nd to 4th column\\n\", arr[1:4, 1:4])"
   ]
  }
 ],
 "metadata": {
  "kernelspec": {
   "display_name": ".venv",
   "language": "python",
   "name": "python3"
  },
  "language_info": {
   "codemirror_mode": {
    "name": "ipython",
    "version": 3
   },
   "file_extension": ".py",
   "mimetype": "text/x-python",
   "name": "python",
   "nbconvert_exporter": "python",
   "pygments_lexer": "ipython3",
   "version": "3.13.3"
  }
 },
 "nbformat": 4,
 "nbformat_minor": 5
}
